{
 "cells": [
  {
   "cell_type": "markdown",
   "id": "2db978a7",
   "metadata": {},
   "source": [
    "<div align=\"center\">\n",
    "    <h1>Shinkansen Travel Experience</h1>\n",
    "</div>\n"
   ]
  },
  {
   "cell_type": "markdown",
   "id": "91e3767f",
   "metadata": {},
   "source": [
    "<div align=\"center\">\n",
    "    <h2>Problem Statement</h2>\n",
    "</div>"
   ]
  },
  {
   "cell_type": "markdown",
   "id": "6c0fe1c6",
   "metadata": {},
   "source": [
    "**Goal**:\n",
    "\n",
    "The goal of the problem is to predict whether a passenger was satisfied or not considering his/her overall experience of traveling on the Shinkansen Bullet Train.\n",
    "\n",
    "**Dataset**: \n",
    "\n",
    "The problem consists of 2 separate datasets: Travel data & Survey data. Travel data has information related to passengers and attributes related to the Shinkansen train, in which they travelled. The survey data is aggregated data of surveys indicating the post-service experience.\n",
    "\n",
    "The data has been split into two groups:\n",
    "\n",
    "1. Train_Data\n",
    "2. Test_Data\n",
    "\n",
    "**Target Variable**: \n",
    "\n",
    "Overall_Experience (1 represents ‘satisfied’, and 0 represents ‘not satisfied’)\n",
    "\n",
    "The training set will be used to build the machine learning model. The training set has labels for the target column - Overall_Experience.\n",
    "\n",
    "The testing set will be used to see how well the model performs on unseen data. For the test set, it is expected to predict the ‘Overall_Experience’ level for each participant."
   ]
  },
  {
   "cell_type": "markdown",
   "id": "d083f7e1",
   "metadata": {},
   "source": [
    "## **Importing the Libraries required**"
   ]
  },
  {
   "cell_type": "code",
   "execution_count": 133,
   "id": "dcd1e989",
   "metadata": {},
   "outputs": [],
   "source": [
    "import numpy as np\n",
    "import pandas as pd\n",
    "import matplotlib.pyplot as plt\n",
    "from sklearn.compose import ColumnTransformer\n",
    "from sklearn.ensemble import RandomForestClassifier, AdaBoostClassifier, GradientBoostingClassifier\n",
    "from sklearn.impute import SimpleImputer\n",
    "from sklearn.linear_model import LogisticRegression\n",
    "from sklearn.metrics import accuracy_score\n",
    "from sklearn.model_selection import train_test_split\n",
    "from sklearn.naive_bayes import GaussianNB\n",
    "from sklearn.neighbors import KNeighborsClassifier\n",
    "from sklearn.pipeline import Pipeline\n",
    "from sklearn.preprocessing import OneHotEncoder, StandardScaler, PolynomialFeatures\n",
    "from sklearn.svm import SVC\n",
    "from xgboost import XGBClassifier\n",
    "from sklearn.metrics import accuracy_score, classification_report, confusion_matrix, ConfusionMatrixDisplay\n",
    "from sklearn.impute import KNNImputer\n",
    "from sklearn.tree import DecisionTreeClassifier\n",
    "from sklearn.neural_network import MLPClassifier\n",
    "from sklearn.ensemble import ExtraTreesClassifier\n",
    "from scipy import stats"
   ]
  },
  {
   "cell_type": "markdown",
   "id": "5d5de4b5",
   "metadata": {},
   "source": [
    "## **Loading the Training dataset**"
   ]
  },
  {
   "cell_type": "code",
   "execution_count": 113,
   "id": "3516474f",
   "metadata": {},
   "outputs": [],
   "source": [
    "travel_data = pd.read_csv(\"Traveldata_train.csv\")"
   ]
  },
  {
   "cell_type": "code",
   "execution_count": 114,
   "id": "8ebf682b",
   "metadata": {},
   "outputs": [],
   "source": [
    "survey_data = pd.read_csv(\"Surveydata_train.csv\")"
   ]
  },
  {
   "cell_type": "markdown",
   "id": "4f1eb31a",
   "metadata": {},
   "source": [
    "**Merge the travel_data and survey_data dataframes on the 'ID' column and store it in merged_traveldata**"
   ]
  },
  {
   "cell_type": "code",
   "execution_count": 115,
   "id": "4cf66b74",
   "metadata": {},
   "outputs": [],
   "source": [
    "merged_traveldata = travel_data.merge(survey_data, on = 'ID')"
   ]
  },
  {
   "cell_type": "markdown",
   "id": "408c75d5",
   "metadata": {},
   "source": [
    "**Create a copy of merged_traveldata and store it in df**"
   ]
  },
  {
   "cell_type": "code",
   "execution_count": 116,
   "id": "9d41bb4b",
   "metadata": {},
   "outputs": [],
   "source": [
    "df = merged_traveldata.copy()"
   ]
  },
  {
   "cell_type": "markdown",
   "id": "541aee74",
   "metadata": {},
   "source": [
    "## **Overview of the Training dataset**"
   ]
  },
  {
   "cell_type": "markdown",
   "id": "ea651ad1",
   "metadata": {},
   "source": [
    "### **View the first and last 5 rows of the dataset**"
   ]
  },
  {
   "cell_type": "code",
   "execution_count": 117,
   "id": "efbe312f",
   "metadata": {},
   "outputs": [
    {
     "data": {
      "text/html": [
       "<div>\n",
       "<style scoped>\n",
       "    .dataframe tbody tr th:only-of-type {\n",
       "        vertical-align: middle;\n",
       "    }\n",
       "\n",
       "    .dataframe tbody tr th {\n",
       "        vertical-align: top;\n",
       "    }\n",
       "\n",
       "    .dataframe thead th {\n",
       "        text-align: right;\n",
       "    }\n",
       "</style>\n",
       "<table border=\"1\" class=\"dataframe\">\n",
       "  <thead>\n",
       "    <tr style=\"text-align: right;\">\n",
       "      <th></th>\n",
       "      <th>ID</th>\n",
       "      <th>Gender</th>\n",
       "      <th>Customer_Type</th>\n",
       "      <th>Age</th>\n",
       "      <th>Type_Travel</th>\n",
       "      <th>Travel_Class</th>\n",
       "      <th>Travel_Distance</th>\n",
       "      <th>Departure_Delay_in_Mins</th>\n",
       "      <th>Arrival_Delay_in_Mins</th>\n",
       "      <th>Overall_Experience</th>\n",
       "      <th>...</th>\n",
       "      <th>Onboard_Wifi_Service</th>\n",
       "      <th>Onboard_Entertainment</th>\n",
       "      <th>Online_Support</th>\n",
       "      <th>Ease_of_Online_Booking</th>\n",
       "      <th>Onboard_Service</th>\n",
       "      <th>Legroom</th>\n",
       "      <th>Baggage_Handling</th>\n",
       "      <th>CheckIn_Service</th>\n",
       "      <th>Cleanliness</th>\n",
       "      <th>Online_Boarding</th>\n",
       "    </tr>\n",
       "  </thead>\n",
       "  <tbody>\n",
       "    <tr>\n",
       "      <th>0</th>\n",
       "      <td>98800001</td>\n",
       "      <td>Female</td>\n",
       "      <td>Loyal Customer</td>\n",
       "      <td>52.0</td>\n",
       "      <td>NaN</td>\n",
       "      <td>Business</td>\n",
       "      <td>272</td>\n",
       "      <td>0.0</td>\n",
       "      <td>5.0</td>\n",
       "      <td>0</td>\n",
       "      <td>...</td>\n",
       "      <td>Good</td>\n",
       "      <td>Needs Improvement</td>\n",
       "      <td>Acceptable</td>\n",
       "      <td>Needs Improvement</td>\n",
       "      <td>Needs Improvement</td>\n",
       "      <td>Acceptable</td>\n",
       "      <td>Needs Improvement</td>\n",
       "      <td>Good</td>\n",
       "      <td>Needs Improvement</td>\n",
       "      <td>Poor</td>\n",
       "    </tr>\n",
       "    <tr>\n",
       "      <th>1</th>\n",
       "      <td>98800002</td>\n",
       "      <td>Male</td>\n",
       "      <td>Loyal Customer</td>\n",
       "      <td>48.0</td>\n",
       "      <td>Personal Travel</td>\n",
       "      <td>Eco</td>\n",
       "      <td>2200</td>\n",
       "      <td>9.0</td>\n",
       "      <td>0.0</td>\n",
       "      <td>0</td>\n",
       "      <td>...</td>\n",
       "      <td>Good</td>\n",
       "      <td>Poor</td>\n",
       "      <td>Good</td>\n",
       "      <td>Good</td>\n",
       "      <td>Excellent</td>\n",
       "      <td>Needs Improvement</td>\n",
       "      <td>Poor</td>\n",
       "      <td>Needs Improvement</td>\n",
       "      <td>Good</td>\n",
       "      <td>Good</td>\n",
       "    </tr>\n",
       "    <tr>\n",
       "      <th>2</th>\n",
       "      <td>98800003</td>\n",
       "      <td>Female</td>\n",
       "      <td>Loyal Customer</td>\n",
       "      <td>43.0</td>\n",
       "      <td>Business Travel</td>\n",
       "      <td>Business</td>\n",
       "      <td>1061</td>\n",
       "      <td>77.0</td>\n",
       "      <td>119.0</td>\n",
       "      <td>1</td>\n",
       "      <td>...</td>\n",
       "      <td>Needs Improvement</td>\n",
       "      <td>Good</td>\n",
       "      <td>Excellent</td>\n",
       "      <td>Excellent</td>\n",
       "      <td>Excellent</td>\n",
       "      <td>Excellent</td>\n",
       "      <td>Excellent</td>\n",
       "      <td>Good</td>\n",
       "      <td>Excellent</td>\n",
       "      <td>Excellent</td>\n",
       "    </tr>\n",
       "    <tr>\n",
       "      <th>3</th>\n",
       "      <td>98800004</td>\n",
       "      <td>Female</td>\n",
       "      <td>Loyal Customer</td>\n",
       "      <td>44.0</td>\n",
       "      <td>Business Travel</td>\n",
       "      <td>Business</td>\n",
       "      <td>780</td>\n",
       "      <td>13.0</td>\n",
       "      <td>18.0</td>\n",
       "      <td>0</td>\n",
       "      <td>...</td>\n",
       "      <td>Acceptable</td>\n",
       "      <td>Needs Improvement</td>\n",
       "      <td>Acceptable</td>\n",
       "      <td>Acceptable</td>\n",
       "      <td>Acceptable</td>\n",
       "      <td>Acceptable</td>\n",
       "      <td>Acceptable</td>\n",
       "      <td>Good</td>\n",
       "      <td>Acceptable</td>\n",
       "      <td>Acceptable</td>\n",
       "    </tr>\n",
       "    <tr>\n",
       "      <th>4</th>\n",
       "      <td>98800005</td>\n",
       "      <td>Female</td>\n",
       "      <td>Loyal Customer</td>\n",
       "      <td>50.0</td>\n",
       "      <td>Business Travel</td>\n",
       "      <td>Business</td>\n",
       "      <td>1981</td>\n",
       "      <td>0.0</td>\n",
       "      <td>0.0</td>\n",
       "      <td>1</td>\n",
       "      <td>...</td>\n",
       "      <td>Needs Improvement</td>\n",
       "      <td>Good</td>\n",
       "      <td>Excellent</td>\n",
       "      <td>Good</td>\n",
       "      <td>Good</td>\n",
       "      <td>Good</td>\n",
       "      <td>Good</td>\n",
       "      <td>Good</td>\n",
       "      <td>Good</td>\n",
       "      <td>Good</td>\n",
       "    </tr>\n",
       "  </tbody>\n",
       "</table>\n",
       "<p>5 rows × 25 columns</p>\n",
       "</div>"
      ],
      "text/plain": [
       "         ID  Gender   Customer_Type   Age      Type_Travel Travel_Class  \\\n",
       "0  98800001  Female  Loyal Customer  52.0              NaN     Business   \n",
       "1  98800002    Male  Loyal Customer  48.0  Personal Travel          Eco   \n",
       "2  98800003  Female  Loyal Customer  43.0  Business Travel     Business   \n",
       "3  98800004  Female  Loyal Customer  44.0  Business Travel     Business   \n",
       "4  98800005  Female  Loyal Customer  50.0  Business Travel     Business   \n",
       "\n",
       "   Travel_Distance  Departure_Delay_in_Mins  Arrival_Delay_in_Mins  \\\n",
       "0              272                      0.0                    5.0   \n",
       "1             2200                      9.0                    0.0   \n",
       "2             1061                     77.0                  119.0   \n",
       "3              780                     13.0                   18.0   \n",
       "4             1981                      0.0                    0.0   \n",
       "\n",
       "   Overall_Experience  ... Onboard_Wifi_Service Onboard_Entertainment  \\\n",
       "0                   0  ...                 Good     Needs Improvement   \n",
       "1                   0  ...                 Good                  Poor   \n",
       "2                   1  ...    Needs Improvement                  Good   \n",
       "3                   0  ...           Acceptable     Needs Improvement   \n",
       "4                   1  ...    Needs Improvement                  Good   \n",
       "\n",
       "  Online_Support Ease_of_Online_Booking    Onboard_Service            Legroom  \\\n",
       "0     Acceptable      Needs Improvement  Needs Improvement         Acceptable   \n",
       "1           Good                   Good          Excellent  Needs Improvement   \n",
       "2      Excellent              Excellent          Excellent          Excellent   \n",
       "3     Acceptable             Acceptable         Acceptable         Acceptable   \n",
       "4      Excellent                   Good               Good               Good   \n",
       "\n",
       "    Baggage_Handling    CheckIn_Service        Cleanliness Online_Boarding  \n",
       "0  Needs Improvement               Good  Needs Improvement            Poor  \n",
       "1               Poor  Needs Improvement               Good            Good  \n",
       "2          Excellent               Good          Excellent       Excellent  \n",
       "3         Acceptable               Good         Acceptable      Acceptable  \n",
       "4               Good               Good               Good            Good  \n",
       "\n",
       "[5 rows x 25 columns]"
      ]
     },
     "execution_count": 117,
     "metadata": {},
     "output_type": "execute_result"
    }
   ],
   "source": [
    "df.head()"
   ]
  },
  {
   "cell_type": "code",
   "execution_count": 118,
   "id": "fb498706",
   "metadata": {},
   "outputs": [
    {
     "data": {
      "text/html": [
       "<div>\n",
       "<style scoped>\n",
       "    .dataframe tbody tr th:only-of-type {\n",
       "        vertical-align: middle;\n",
       "    }\n",
       "\n",
       "    .dataframe tbody tr th {\n",
       "        vertical-align: top;\n",
       "    }\n",
       "\n",
       "    .dataframe thead th {\n",
       "        text-align: right;\n",
       "    }\n",
       "</style>\n",
       "<table border=\"1\" class=\"dataframe\">\n",
       "  <thead>\n",
       "    <tr style=\"text-align: right;\">\n",
       "      <th></th>\n",
       "      <th>ID</th>\n",
       "      <th>Gender</th>\n",
       "      <th>Customer_Type</th>\n",
       "      <th>Age</th>\n",
       "      <th>Type_Travel</th>\n",
       "      <th>Travel_Class</th>\n",
       "      <th>Travel_Distance</th>\n",
       "      <th>Departure_Delay_in_Mins</th>\n",
       "      <th>Arrival_Delay_in_Mins</th>\n",
       "      <th>Overall_Experience</th>\n",
       "      <th>...</th>\n",
       "      <th>Onboard_Wifi_Service</th>\n",
       "      <th>Onboard_Entertainment</th>\n",
       "      <th>Online_Support</th>\n",
       "      <th>Ease_of_Online_Booking</th>\n",
       "      <th>Onboard_Service</th>\n",
       "      <th>Legroom</th>\n",
       "      <th>Baggage_Handling</th>\n",
       "      <th>CheckIn_Service</th>\n",
       "      <th>Cleanliness</th>\n",
       "      <th>Online_Boarding</th>\n",
       "    </tr>\n",
       "  </thead>\n",
       "  <tbody>\n",
       "    <tr>\n",
       "      <th>94374</th>\n",
       "      <td>98894375</td>\n",
       "      <td>Male</td>\n",
       "      <td>Loyal Customer</td>\n",
       "      <td>32.0</td>\n",
       "      <td>Business Travel</td>\n",
       "      <td>Business</td>\n",
       "      <td>1357</td>\n",
       "      <td>83.0</td>\n",
       "      <td>125.0</td>\n",
       "      <td>0</td>\n",
       "      <td>...</td>\n",
       "      <td>Poor</td>\n",
       "      <td>Poor</td>\n",
       "      <td>Poor</td>\n",
       "      <td>Poor</td>\n",
       "      <td>Good</td>\n",
       "      <td>Good</td>\n",
       "      <td>Good</td>\n",
       "      <td>Needs Improvement</td>\n",
       "      <td>Good</td>\n",
       "      <td>Poor</td>\n",
       "    </tr>\n",
       "    <tr>\n",
       "      <th>94375</th>\n",
       "      <td>98894376</td>\n",
       "      <td>Male</td>\n",
       "      <td>Loyal Customer</td>\n",
       "      <td>44.0</td>\n",
       "      <td>Business Travel</td>\n",
       "      <td>Business</td>\n",
       "      <td>592</td>\n",
       "      <td>5.0</td>\n",
       "      <td>11.0</td>\n",
       "      <td>1</td>\n",
       "      <td>...</td>\n",
       "      <td>Needs Improvement</td>\n",
       "      <td>Excellent</td>\n",
       "      <td>Excellent</td>\n",
       "      <td>Acceptable</td>\n",
       "      <td>Acceptable</td>\n",
       "      <td>Acceptable</td>\n",
       "      <td>Acceptable</td>\n",
       "      <td>Good</td>\n",
       "      <td>Acceptable</td>\n",
       "      <td>Good</td>\n",
       "    </tr>\n",
       "    <tr>\n",
       "      <th>94376</th>\n",
       "      <td>98894377</td>\n",
       "      <td>Male</td>\n",
       "      <td>NaN</td>\n",
       "      <td>63.0</td>\n",
       "      <td>Business Travel</td>\n",
       "      <td>Business</td>\n",
       "      <td>2794</td>\n",
       "      <td>0.0</td>\n",
       "      <td>0.0</td>\n",
       "      <td>1</td>\n",
       "      <td>...</td>\n",
       "      <td>Good</td>\n",
       "      <td>Excellent</td>\n",
       "      <td>Good</td>\n",
       "      <td>Good</td>\n",
       "      <td>Good</td>\n",
       "      <td>Good</td>\n",
       "      <td>Good</td>\n",
       "      <td>Acceptable</td>\n",
       "      <td>Good</td>\n",
       "      <td>Acceptable</td>\n",
       "    </tr>\n",
       "    <tr>\n",
       "      <th>94377</th>\n",
       "      <td>98894378</td>\n",
       "      <td>Male</td>\n",
       "      <td>Loyal Customer</td>\n",
       "      <td>16.0</td>\n",
       "      <td>Personal Travel</td>\n",
       "      <td>Eco</td>\n",
       "      <td>2744</td>\n",
       "      <td>0.0</td>\n",
       "      <td>0.0</td>\n",
       "      <td>0</td>\n",
       "      <td>...</td>\n",
       "      <td>Good</td>\n",
       "      <td>Needs Improvement</td>\n",
       "      <td>Good</td>\n",
       "      <td>Good</td>\n",
       "      <td>Acceptable</td>\n",
       "      <td>Good</td>\n",
       "      <td>Good</td>\n",
       "      <td>Good</td>\n",
       "      <td>Excellent</td>\n",
       "      <td>Good</td>\n",
       "    </tr>\n",
       "    <tr>\n",
       "      <th>94378</th>\n",
       "      <td>98894379</td>\n",
       "      <td>Male</td>\n",
       "      <td>Loyal Customer</td>\n",
       "      <td>54.0</td>\n",
       "      <td>NaN</td>\n",
       "      <td>Eco</td>\n",
       "      <td>2107</td>\n",
       "      <td>28.0</td>\n",
       "      <td>28.0</td>\n",
       "      <td>0</td>\n",
       "      <td>...</td>\n",
       "      <td>Acceptable</td>\n",
       "      <td>Acceptable</td>\n",
       "      <td>Acceptable</td>\n",
       "      <td>Acceptable</td>\n",
       "      <td>Poor</td>\n",
       "      <td>Good</td>\n",
       "      <td>Good</td>\n",
       "      <td>Poor</td>\n",
       "      <td>Good</td>\n",
       "      <td>Acceptable</td>\n",
       "    </tr>\n",
       "  </tbody>\n",
       "</table>\n",
       "<p>5 rows × 25 columns</p>\n",
       "</div>"
      ],
      "text/plain": [
       "             ID Gender   Customer_Type   Age      Type_Travel Travel_Class  \\\n",
       "94374  98894375   Male  Loyal Customer  32.0  Business Travel     Business   \n",
       "94375  98894376   Male  Loyal Customer  44.0  Business Travel     Business   \n",
       "94376  98894377   Male             NaN  63.0  Business Travel     Business   \n",
       "94377  98894378   Male  Loyal Customer  16.0  Personal Travel          Eco   \n",
       "94378  98894379   Male  Loyal Customer  54.0              NaN          Eco   \n",
       "\n",
       "       Travel_Distance  Departure_Delay_in_Mins  Arrival_Delay_in_Mins  \\\n",
       "94374             1357                     83.0                  125.0   \n",
       "94375              592                      5.0                   11.0   \n",
       "94376             2794                      0.0                    0.0   \n",
       "94377             2744                      0.0                    0.0   \n",
       "94378             2107                     28.0                   28.0   \n",
       "\n",
       "       Overall_Experience  ... Onboard_Wifi_Service Onboard_Entertainment  \\\n",
       "94374                   0  ...                 Poor                  Poor   \n",
       "94375                   1  ...    Needs Improvement             Excellent   \n",
       "94376                   1  ...                 Good             Excellent   \n",
       "94377                   0  ...                 Good     Needs Improvement   \n",
       "94378                   0  ...           Acceptable            Acceptable   \n",
       "\n",
       "      Online_Support Ease_of_Online_Booking Onboard_Service     Legroom  \\\n",
       "94374           Poor                   Poor            Good        Good   \n",
       "94375      Excellent             Acceptable      Acceptable  Acceptable   \n",
       "94376           Good                   Good            Good        Good   \n",
       "94377           Good                   Good      Acceptable        Good   \n",
       "94378     Acceptable             Acceptable            Poor        Good   \n",
       "\n",
       "      Baggage_Handling    CheckIn_Service Cleanliness Online_Boarding  \n",
       "94374             Good  Needs Improvement        Good            Poor  \n",
       "94375       Acceptable               Good  Acceptable            Good  \n",
       "94376             Good         Acceptable        Good      Acceptable  \n",
       "94377             Good               Good   Excellent            Good  \n",
       "94378             Good               Poor        Good      Acceptable  \n",
       "\n",
       "[5 rows x 25 columns]"
      ]
     },
     "execution_count": 118,
     "metadata": {},
     "output_type": "execute_result"
    }
   ],
   "source": [
    "df.tail(5)"
   ]
  },
  {
   "cell_type": "markdown",
   "id": "f9b6b447",
   "metadata": {},
   "source": [
    "### **Understand the shape of the dataset**"
   ]
  },
  {
   "cell_type": "code",
   "execution_count": 119,
   "id": "134ea30f",
   "metadata": {},
   "outputs": [
    {
     "data": {
      "text/plain": [
       "(94379, 25)"
      ]
     },
     "execution_count": 119,
     "metadata": {},
     "output_type": "execute_result"
    }
   ],
   "source": [
    "df.shape"
   ]
  },
  {
   "cell_type": "markdown",
   "id": "7fef7c26",
   "metadata": {},
   "source": [
    "### **Check the data types of the columns for the dataset**"
   ]
  },
  {
   "cell_type": "code",
   "execution_count": 120,
   "id": "4c10541b",
   "metadata": {},
   "outputs": [
    {
     "name": "stdout",
     "output_type": "stream",
     "text": [
      "<class 'pandas.core.frame.DataFrame'>\n",
      "Int64Index: 94379 entries, 0 to 94378\n",
      "Data columns (total 25 columns):\n",
      " #   Column                   Non-Null Count  Dtype  \n",
      "---  ------                   --------------  -----  \n",
      " 0   ID                       94379 non-null  int64  \n",
      " 1   Gender                   94302 non-null  object \n",
      " 2   Customer_Type            85428 non-null  object \n",
      " 3   Age                      94346 non-null  float64\n",
      " 4   Type_Travel              85153 non-null  object \n",
      " 5   Travel_Class             94379 non-null  object \n",
      " 6   Travel_Distance          94379 non-null  int64  \n",
      " 7   Departure_Delay_in_Mins  94322 non-null  float64\n",
      " 8   Arrival_Delay_in_Mins    94022 non-null  float64\n",
      " 9   Overall_Experience       94379 non-null  int64  \n",
      " 10  Seat_Comfort             94318 non-null  object \n",
      " 11  Seat_Class               94379 non-null  object \n",
      " 12  Arrival_Time_Convenient  85449 non-null  object \n",
      " 13  Catering                 85638 non-null  object \n",
      " 14  Platform_Location        94349 non-null  object \n",
      " 15  Onboard_Wifi_Service     94349 non-null  object \n",
      " 16  Onboard_Entertainment    94361 non-null  object \n",
      " 17  Online_Support           94288 non-null  object \n",
      " 18  Ease_of_Online_Booking   94306 non-null  object \n",
      " 19  Onboard_Service          86778 non-null  object \n",
      " 20  Legroom                  94289 non-null  object \n",
      " 21  Baggage_Handling         94237 non-null  object \n",
      " 22  CheckIn_Service          94302 non-null  object \n",
      " 23  Cleanliness              94373 non-null  object \n",
      " 24  Online_Boarding          94373 non-null  object \n",
      "dtypes: float64(3), int64(3), object(19)\n",
      "memory usage: 18.7+ MB\n"
     ]
    }
   ],
   "source": [
    "df.info()"
   ]
  },
  {
   "cell_type": "markdown",
   "id": "aafd22be",
   "metadata": {},
   "source": [
    "**Observations**\n",
    "\n",
    "1. There are a total of 24 columns and 94379 rows.\n",
    "2. The column Gender has some missing values (non-null count is less than the total number of rows).\n",
    "3. The columns Customer_Type and Type_Travel also have missing values.\n",
    "4. Some columns such as Age, Departure_Delay_in_Mins, Arrival_Delay_in_Mins, Seat_Comfort, Arrival_Time_Convenient, Catering, Onboard_Wifi_Service, Onboard_Entertainment, Online_Support, Ease_of_Online_Booking, Onboard_Service, Legroom, Baggage_Handling, CheckIn_Service, Cleanliness, and Online_Boarding also have some missing values.\n",
    "5. The data types of the columns are either int64, float64, or object (categorical or text data)."
   ]
  },
  {
   "cell_type": "markdown",
   "id": "e6fbed30",
   "metadata": {},
   "source": [
    "### **Check the summary statistics of the dataset**"
   ]
  },
  {
   "cell_type": "code",
   "execution_count": 121,
   "id": "55c95466",
   "metadata": {},
   "outputs": [
    {
     "data": {
      "text/html": [
       "<div>\n",
       "<style scoped>\n",
       "    .dataframe tbody tr th:only-of-type {\n",
       "        vertical-align: middle;\n",
       "    }\n",
       "\n",
       "    .dataframe tbody tr th {\n",
       "        vertical-align: top;\n",
       "    }\n",
       "\n",
       "    .dataframe thead th {\n",
       "        text-align: right;\n",
       "    }\n",
       "</style>\n",
       "<table border=\"1\" class=\"dataframe\">\n",
       "  <thead>\n",
       "    <tr style=\"text-align: right;\">\n",
       "      <th></th>\n",
       "      <th>ID</th>\n",
       "      <th>Age</th>\n",
       "      <th>Travel_Distance</th>\n",
       "      <th>Departure_Delay_in_Mins</th>\n",
       "      <th>Arrival_Delay_in_Mins</th>\n",
       "      <th>Overall_Experience</th>\n",
       "    </tr>\n",
       "  </thead>\n",
       "  <tbody>\n",
       "    <tr>\n",
       "      <th>count</th>\n",
       "      <td>9.437900e+04</td>\n",
       "      <td>94346.000000</td>\n",
       "      <td>94379.000000</td>\n",
       "      <td>94322.000000</td>\n",
       "      <td>94022.000000</td>\n",
       "      <td>94379.000000</td>\n",
       "    </tr>\n",
       "    <tr>\n",
       "      <th>mean</th>\n",
       "      <td>9.884719e+07</td>\n",
       "      <td>39.419647</td>\n",
       "      <td>1978.888185</td>\n",
       "      <td>14.647092</td>\n",
       "      <td>15.005222</td>\n",
       "      <td>0.546658</td>\n",
       "    </tr>\n",
       "    <tr>\n",
       "      <th>std</th>\n",
       "      <td>2.724501e+04</td>\n",
       "      <td>15.116632</td>\n",
       "      <td>1027.961019</td>\n",
       "      <td>38.138781</td>\n",
       "      <td>38.439409</td>\n",
       "      <td>0.497821</td>\n",
       "    </tr>\n",
       "    <tr>\n",
       "      <th>min</th>\n",
       "      <td>9.880000e+07</td>\n",
       "      <td>7.000000</td>\n",
       "      <td>50.000000</td>\n",
       "      <td>0.000000</td>\n",
       "      <td>0.000000</td>\n",
       "      <td>0.000000</td>\n",
       "    </tr>\n",
       "    <tr>\n",
       "      <th>25%</th>\n",
       "      <td>9.882360e+07</td>\n",
       "      <td>27.000000</td>\n",
       "      <td>1359.000000</td>\n",
       "      <td>0.000000</td>\n",
       "      <td>0.000000</td>\n",
       "      <td>0.000000</td>\n",
       "    </tr>\n",
       "    <tr>\n",
       "      <th>50%</th>\n",
       "      <td>9.884719e+07</td>\n",
       "      <td>40.000000</td>\n",
       "      <td>1923.000000</td>\n",
       "      <td>0.000000</td>\n",
       "      <td>0.000000</td>\n",
       "      <td>1.000000</td>\n",
       "    </tr>\n",
       "    <tr>\n",
       "      <th>75%</th>\n",
       "      <td>9.887078e+07</td>\n",
       "      <td>51.000000</td>\n",
       "      <td>2538.000000</td>\n",
       "      <td>12.000000</td>\n",
       "      <td>13.000000</td>\n",
       "      <td>1.000000</td>\n",
       "    </tr>\n",
       "    <tr>\n",
       "      <th>max</th>\n",
       "      <td>9.889438e+07</td>\n",
       "      <td>85.000000</td>\n",
       "      <td>6951.000000</td>\n",
       "      <td>1592.000000</td>\n",
       "      <td>1584.000000</td>\n",
       "      <td>1.000000</td>\n",
       "    </tr>\n",
       "  </tbody>\n",
       "</table>\n",
       "</div>"
      ],
      "text/plain": [
       "                 ID           Age  Travel_Distance  Departure_Delay_in_Mins  \\\n",
       "count  9.437900e+04  94346.000000     94379.000000             94322.000000   \n",
       "mean   9.884719e+07     39.419647      1978.888185                14.647092   \n",
       "std    2.724501e+04     15.116632      1027.961019                38.138781   \n",
       "min    9.880000e+07      7.000000        50.000000                 0.000000   \n",
       "25%    9.882360e+07     27.000000      1359.000000                 0.000000   \n",
       "50%    9.884719e+07     40.000000      1923.000000                 0.000000   \n",
       "75%    9.887078e+07     51.000000      2538.000000                12.000000   \n",
       "max    9.889438e+07     85.000000      6951.000000              1592.000000   \n",
       "\n",
       "       Arrival_Delay_in_Mins  Overall_Experience  \n",
       "count           94022.000000        94379.000000  \n",
       "mean               15.005222            0.546658  \n",
       "std                38.439409            0.497821  \n",
       "min                 0.000000            0.000000  \n",
       "25%                 0.000000            0.000000  \n",
       "50%                 0.000000            1.000000  \n",
       "75%                13.000000            1.000000  \n",
       "max              1584.000000            1.000000  "
      ]
     },
     "execution_count": 121,
     "metadata": {},
     "output_type": "execute_result"
    }
   ],
   "source": [
    "df.describe()"
   ]
  },
  {
   "cell_type": "markdown",
   "id": "50cbc6fc",
   "metadata": {},
   "source": [
    "### **Drop ID columns for the dataset**"
   ]
  },
  {
   "cell_type": "code",
   "execution_count": 122,
   "id": "020889dd",
   "metadata": {},
   "outputs": [],
   "source": [
    "df = df.drop([\"ID\"], axis = 1)"
   ]
  },
  {
   "cell_type": "markdown",
   "id": "0a7d1caf",
   "metadata": {},
   "source": [
    "## Creating A Scikit-learn Pipeline with a Median Imputer and Several Classifiers"
   ]
  },
  {
   "cell_type": "markdown",
   "id": "62bacac3",
   "metadata": {},
   "source": [
    "**To make predictions all columns are used except ID and Overall Experience**"
   ]
  },
  {
   "cell_type": "code",
   "execution_count": 123,
   "id": "95d212af",
   "metadata": {},
   "outputs": [],
   "source": [
    "# Define features and target\n",
    "X = df.drop(columns=['Overall_Experience']) #features\n",
    "y = df['Overall_Experience'] #target"
   ]
  },
  {
   "cell_type": "markdown",
   "id": "982639df",
   "metadata": {},
   "source": [
    "**Split the dataset into training and testing sets**"
   ]
  },
  {
   "cell_type": "code",
   "execution_count": 124,
   "id": "38c15da4",
   "metadata": {},
   "outputs": [],
   "source": [
    "X_train, X_test, y_train, y_test = train_test_split(X, y, test_size=0.2, random_state=42)"
   ]
  },
  {
   "cell_type": "markdown",
   "id": "fe78bbb7",
   "metadata": {},
   "source": [
    "**Define categorical and numerical features**"
   ]
  },
  {
   "cell_type": "code",
   "execution_count": 125,
   "id": "fe1d2873",
   "metadata": {},
   "outputs": [],
   "source": [
    "categorical_features = [\n",
    "    'Gender', 'Customer_Type', 'Type_Travel', 'Travel_Class','Seat_Comfort', 'Seat_Class', 'Arrival_Time_Convenient', 'Catering', 'Platform_Location', 'Onboard_Wifi_Service', 'Onboard_Entertainment','Online_Support', 'Ease_of_Online_Booking', 'Onboard_Service','Legroom', 'Baggage_Handling', 'CheckIn_Service', 'Cleanliness', 'Online_Boarding'\n",
    "\n",
    "]\n",
    "numerical_features = [\n",
    "    'Age', 'Travel_Distance', 'Departure_Delay_in_Mins', 'Arrival_Delay_in_Mins'\n",
    "]"
   ]
  },
  {
   "cell_type": "markdown",
   "id": "09e823ca",
   "metadata": {},
   "source": [
    "**Define transformers for categorical and numerical features**"
   ]
  },
  {
   "cell_type": "code",
   "execution_count": 48,
   "id": "9768920a",
   "metadata": {},
   "outputs": [],
   "source": [
    "categorical_transformer = Pipeline(steps=[\n",
    "    ('imputer', SimpleImputer(strategy='most_frequent')),  # impute missing values with most frequent value\n",
    "    ('onehot', OneHotEncoder(handle_unknown='ignore'))])   # convert categorical features to binary vectors\n",
    "\n",
    "numerical_transformer = Pipeline(steps=[\n",
    "    ('imputer', SimpleImputer(strategy='median')),    # impute missing values with median value\n",
    "    ('scaler', StandardScaler())])                    # standardize numerical features"
   ]
  },
  {
   "cell_type": "markdown",
   "id": "a3d1cc7e",
   "metadata": {},
   "source": [
    "**Create a preprocessor using ColumnTransformer**"
   ]
  },
  {
   "cell_type": "code",
   "execution_count": 49,
   "id": "f736c6ec",
   "metadata": {},
   "outputs": [],
   "source": [
    "preprocessor = ColumnTransformer(transformers=[\n",
    "    ('num', numerical_transformer, numerical_features),\n",
    "    ('cat', categorical_transformer, categorical_features)])"
   ]
  },
  {
   "cell_type": "markdown",
   "id": "60ffa995",
   "metadata": {},
   "source": [
    "**Define a list of classifiers to be evaluated**"
   ]
  },
  {
   "cell_type": "code",
   "execution_count": 50,
   "id": "7905cd00",
   "metadata": {},
   "outputs": [
    {
     "name": "stderr",
     "output_type": "stream",
     "text": [
      "/Users/estherteye/opt/anaconda3/lib/python3.9/site-packages/xgboost/sklearn.py:1395: UserWarning: `use_label_encoder` is deprecated in 1.7.0.\n",
      "  warnings.warn(\"`use_label_encoder` is deprecated in 1.7.0.\")\n"
     ]
    }
   ],
   "source": [
    "# List of classifiers to test\n",
    "classifiers = [\n",
    "    ('Logistic Regression', LogisticRegression(max_iter=1000)),\n",
    "    ('Random Forest', RandomForestClassifier(random_state=42)),\n",
    "    ('SVM', SVC(random_state=42)),\n",
    "    ('KNN', KNeighborsClassifier()),\n",
    "    ('Decision Tree', DecisionTreeClassifier(random_state=42)),\n",
    "    ('AdaBoost', AdaBoostClassifier(random_state=42)),\n",
    "    ('Gradient Boosting', GradientBoostingClassifier(random_state=42)),\n",
    "    ('XGBoost', XGBClassifier(use_label_encoder=False, eval_metric='logloss', random_state=42)),\n",
    "    ('MLP', MLPClassifier(random_state=42, hidden_layer_sizes=(10,10), activation='relu', solver='adam')),\n",
    "    ('ExtraTrees', ExtraTreesClassifier(random_state=42))\n",
    "]"
   ]
  },
  {
   "cell_type": "markdown",
   "id": "8ca116d5",
   "metadata": {},
   "source": [
    "**Iterate over classifiers and compare their performance**"
   ]
  },
  {
   "cell_type": "code",
   "execution_count": 51,
   "id": "59866218",
   "metadata": {},
   "outputs": [
    {
     "name": "stdout",
     "output_type": "stream",
     "text": [
      "Logistic Regression: 0.9036\n",
      "Random Forest: 0.9519\n",
      "SVM: 0.9516\n",
      "KNN: 0.9279\n",
      "Decision Tree: 0.9273\n",
      "AdaBoost: 0.9002\n",
      "Gradient Boosting: 0.9248\n",
      "XGBoost: 0.9539\n",
      "MLP: 0.9478\n",
      "ExtraTrees: 0.9543\n"
     ]
    }
   ],
   "source": [
    "for classifier_name, classifier in classifiers:\n",
    "    # Create a pipeline with the preprocessor and classifier\n",
    "    pipeline = Pipeline(steps=[('preprocessor', preprocessor),\n",
    "                               ('classifier', classifier)])\n",
    "    \n",
    "    # Train the model and make predictions\n",
    "    pipeline.fit(X_train, y_train)\n",
    "    y_pred = pipeline.predict(X_test)\n",
    "    \n",
    "    # Calculate the accuracy\n",
    "    accuracy = accuracy_score(y_test, y_pred)\n",
    "    \n",
    "    # Print the results\n",
    "    print(f\"{classifier_name}: {accuracy:.4f}\")"
   ]
  },
  {
   "cell_type": "markdown",
   "id": "d1649770",
   "metadata": {},
   "source": [
    "**Observations**\n",
    "\n",
    "1. XGBoost, Random Forest, and SVM are the top-performing classifiers with accuracy scores of 0.9539, 0.9519, and 0.9516, respectively.\n",
    "2. Logistic Regression and AdaBoost achieved lower accuracy scores of 0.9036 and 0.9002, respectively.\n",
    "3. KNN and Decision Tree models also performed relatively well with accuracy scores of 0.9279 and 0.9273, respectively.\n",
    "4. The accuracy scores of the top-performing classifiers are quite close to each other, indicating that they may be equally effective for this classification task."
   ]
  },
  {
   "cell_type": "markdown",
   "id": "3c75ccc9",
   "metadata": {},
   "source": [
    "## Creating A Scikit-learn Pipeline with a KNN Imputer and Several Classifiers"
   ]
  },
  {
   "cell_type": "markdown",
   "id": "0ad03265",
   "metadata": {},
   "source": [
    "**Create transformers for categorical and numerical features**"
   ]
  },
  {
   "cell_type": "code",
   "execution_count": 52,
   "id": "b94223a3",
   "metadata": {},
   "outputs": [],
   "source": [
    "categorical_transformer = Pipeline(steps=[\n",
    "    ('imputer', SimpleImputer(strategy='most_frequent')), # impute missing values with most frequent value\n",
    "    ('onehot', OneHotEncoder(handle_unknown='ignore'))])  # convert categorical features to binary vectors\n",
    "\n",
    "numerical_transformer = Pipeline(steps=[\n",
    "    ('imputer', KNNImputer(n_neighbors=3)),               # impute missing values with KNN \n",
    "    ('scaler', StandardScaler())])                        # standardize numerical features"
   ]
  },
  {
   "cell_type": "markdown",
   "id": "ea27f4e6",
   "metadata": {},
   "source": [
    "**Create a preprocessor using ColumnTransformer**"
   ]
  },
  {
   "cell_type": "code",
   "execution_count": 53,
   "id": "993f59dc",
   "metadata": {},
   "outputs": [],
   "source": [
    "preprocessor = ColumnTransformer(transformers=[\n",
    "    ('num', numerical_transformer, numerical_features),\n",
    "    ('cat', categorical_transformer, categorical_features)])"
   ]
  },
  {
   "cell_type": "markdown",
   "id": "4f8f4e86",
   "metadata": {},
   "source": [
    "**Define a list of classifiers to be evaluated**"
   ]
  },
  {
   "cell_type": "code",
   "execution_count": 54,
   "id": "c9a96619",
   "metadata": {},
   "outputs": [
    {
     "name": "stderr",
     "output_type": "stream",
     "text": [
      "/Users/estherteye/opt/anaconda3/lib/python3.9/site-packages/xgboost/sklearn.py:1395: UserWarning: `use_label_encoder` is deprecated in 1.7.0.\n",
      "  warnings.warn(\"`use_label_encoder` is deprecated in 1.7.0.\")\n"
     ]
    }
   ],
   "source": [
    "classifiers = [\n",
    "    ('Logistic Regression', LogisticRegression(max_iter=1000)),\n",
    "    ('Random Forest', RandomForestClassifier(random_state=42)),\n",
    "    ('SVM', SVC(random_state=42)),\n",
    "    ('KNN', KNeighborsClassifier()),\n",
    "    ('Decision Tree', DecisionTreeClassifier(random_state=42)),\n",
    "    ('AdaBoost', AdaBoostClassifier(random_state=42)),\n",
    "    ('Gradient Boosting', GradientBoostingClassifier(random_state=42)),\n",
    "    ('XGBoost', XGBClassifier(use_label_encoder=False, eval_metric='logloss', random_state=42)),\n",
    "    ('MLP', MLPClassifier(random_state=42, hidden_layer_sizes=(10,10), activation='relu', solver='adam')),\n",
    "    ('ExtraTrees', ExtraTreesClassifier(random_state=42))\n",
    "]"
   ]
  },
  {
   "cell_type": "markdown",
   "id": "ab4d31de",
   "metadata": {},
   "source": [
    "**Iterate over classifiers and compare their performance**"
   ]
  },
  {
   "cell_type": "code",
   "execution_count": 55,
   "id": "896b73b0",
   "metadata": {},
   "outputs": [
    {
     "name": "stdout",
     "output_type": "stream",
     "text": [
      "Logistic Regression: 0.9036\n",
      "Random Forest: 0.9513\n",
      "SVM: 0.9514\n",
      "KNN: 0.9280\n",
      "Decision Tree: 0.9283\n",
      "AdaBoost: 0.9002\n",
      "Gradient Boosting: 0.9246\n",
      "XGBoost: 0.9525\n",
      "MLP: 0.9494\n",
      "ExtraTrees: 0.9536\n"
     ]
    }
   ],
   "source": [
    "for classifier_name, classifier in classifiers:\n",
    "    # Create a pipeline with the preprocessor and classifier\n",
    "    pipeline = Pipeline(steps=[('preprocessor', preprocessor),\n",
    "                               ('classifier', classifier)])\n",
    "    \n",
    "    # Train the model and make predictions\n",
    "    pipeline.fit(X_train, y_train)\n",
    "    y_pred = pipeline.predict(X_test)\n",
    "    \n",
    "    # Calculate the accuracy\n",
    "    accuracy = accuracy_score(y_test, y_pred)\n",
    "    \n",
    "    # Print the results\n",
    "    print(f\"{classifier_name}: {accuracy:.4f}\")"
   ]
  },
  {
   "cell_type": "markdown",
   "id": "b5bf55c8",
   "metadata": {},
   "source": [
    "**Observations**\n",
    "\n",
    "1. The accuracy scores of the Logistic Regression and AdaBoost models remain the same at 0.9036 and 0.9002, respectively.\n",
    "2. The Random Forest, SVM, and XGBoost models achieve slightly lower accuracy scores compared to the previous results, with accuracy scores of 0.9513, 0.9514, and 0.9525, respectively.\n",
    "3. The KNN and Decision Tree models perform similarly to the previous results, with accuracy scores of 0.9280 and 0.9283, respectively.\n",
    "4. The Gradient Boosting model achieves a slightly lower accuracy score of 0.9246 compared to the previous results.\n",
    "5. Overall, the top-performing classifiers remain the same with XGBoost, Random Forest, and SVM achieving the highest accuracy scores. However, the differences in accuracy scores between the top-performing models are relatively small.\n",
    "6. The KNN imputation for the numerical features did not significantly impact the classification results."
   ]
  },
  {
   "cell_type": "markdown",
   "id": "7148a033",
   "metadata": {},
   "source": [
    "## Creating A Scikit-learn Pipeline with a Mean Imputer and Several Classifiers"
   ]
  },
  {
   "cell_type": "markdown",
   "id": "f5f8b99b",
   "metadata": {},
   "source": [
    "**Create transformers for categorical and numerical features**"
   ]
  },
  {
   "cell_type": "code",
   "execution_count": 56,
   "id": "98683f43",
   "metadata": {},
   "outputs": [],
   "source": [
    "categorical_transformer = Pipeline(steps=[\n",
    "    ('imputer', SimpleImputer(strategy='most_frequent')),  # impute missing values with most frequent value\n",
    "    ('onehot', OneHotEncoder(handle_unknown='ignore'))])   # convert categorical features to binary vectors\n",
    "\n",
    "numerical_transformer = Pipeline(steps=[\n",
    "    ('imputer', SimpleImputer(strategy='mean')),           # impute missing values with mean \n",
    "    ('scaler', StandardScaler())])                         # standardize numerical features"
   ]
  },
  {
   "cell_type": "markdown",
   "id": "7d05d3b4",
   "metadata": {},
   "source": [
    "**Create a preprocessor using ColumnTransformer**"
   ]
  },
  {
   "cell_type": "code",
   "execution_count": 57,
   "id": "6d148219",
   "metadata": {},
   "outputs": [],
   "source": [
    "preprocessor = ColumnTransformer(transformers=[\n",
    "    ('num', numerical_transformer, numerical_features),\n",
    "    ('cat', categorical_transformer, categorical_features)])"
   ]
  },
  {
   "cell_type": "markdown",
   "id": "59667362",
   "metadata": {},
   "source": [
    "**Define a list of classifiers to be evaluated**"
   ]
  },
  {
   "cell_type": "code",
   "execution_count": 58,
   "id": "308fcb23",
   "metadata": {
    "scrolled": true
   },
   "outputs": [
    {
     "name": "stderr",
     "output_type": "stream",
     "text": [
      "/Users/estherteye/opt/anaconda3/lib/python3.9/site-packages/xgboost/sklearn.py:1395: UserWarning: `use_label_encoder` is deprecated in 1.7.0.\n",
      "  warnings.warn(\"`use_label_encoder` is deprecated in 1.7.0.\")\n"
     ]
    }
   ],
   "source": [
    "# List of classifiers to test\n",
    "classifiers = [\n",
    "    ('Logistic Regression', LogisticRegression(max_iter=1000)),\n",
    "    ('Random Forest', RandomForestClassifier(random_state=42)),\n",
    "    ('SVM', SVC(random_state=42)),\n",
    "    ('KNN', KNeighborsClassifier()),\n",
    "    ('Decision Tree', DecisionTreeClassifier(random_state=42)),\n",
    "    ('AdaBoost', AdaBoostClassifier(random_state=42)),\n",
    "    ('Gradient Boosting', GradientBoostingClassifier(random_state=42)),\n",
    "    ('XGBoost', XGBClassifier(use_label_encoder=False, eval_metric='logloss', random_state=42)),\n",
    "    ('MLP', MLPClassifier(random_state=42, hidden_layer_sizes=(10,10), activation='relu', solver='adam')),\n",
    "    ('ExtraTrees', ExtraTreesClassifier(random_state=42))\n",
    "]"
   ]
  },
  {
   "cell_type": "markdown",
   "id": "85a16e27",
   "metadata": {},
   "source": [
    "**Iterate over classifiers and compare their performance**"
   ]
  },
  {
   "cell_type": "code",
   "execution_count": 59,
   "id": "49b66c81",
   "metadata": {},
   "outputs": [
    {
     "name": "stdout",
     "output_type": "stream",
     "text": [
      "Logistic Regression: 0.9037\n",
      "Random Forest: 0.9527\n",
      "SVM: 0.9515\n",
      "KNN: 0.9279\n",
      "Decision Tree: 0.9279\n",
      "AdaBoost: 0.9002\n",
      "Gradient Boosting: 0.9251\n",
      "XGBoost: 0.9551\n",
      "MLP: 0.9485\n",
      "ExtraTrees: 0.9549\n"
     ]
    }
   ],
   "source": [
    "for classifier_name, classifier in classifiers:\n",
    "    # Create a pipeline with the preprocessor and classifier\n",
    "    pipeline = Pipeline(steps=[('preprocessor', preprocessor),\n",
    "                               ('classifier', classifier)])\n",
    "    \n",
    "    # Train the model and make predictions\n",
    "    pipeline.fit(X_train, y_train)\n",
    "    y_pred = pipeline.predict(X_test)\n",
    "    \n",
    "    # Calculate the accuracy\n",
    "    accuracy = accuracy_score(y_test, y_pred)\n",
    "    \n",
    "    # Print the results\n",
    "    print(f\"{classifier_name}: {accuracy:.4f}\")"
   ]
  },
  {
   "cell_type": "markdown",
   "id": "6d685940",
   "metadata": {},
   "source": [
    "**Observations**\n",
    "\n",
    "1. The accuracy score of the Logistic Regression model remains largely the same at 0.9037.\n",
    "2. The accuracy scores of the Random Forest, SVM, and KNN models are slightly lower compared to the previous results, with accuracy scores of 0.9527, 0.9515, and 0.9279, respectively.\n",
    "3. The Decision Tree model achieves the same accuracy score of 0.9279 as the KNN model.\n",
    "4. The Gradient Boosting model achieves a slightly lower accuracy score of 0.9251 compared to the previous results.\n",
    "5. The XGBoost model achieves the highest accuracy score of 0.9551, which is slightly higher than the previous result of 0.9539.\n",
    "6. Overall, the XGBoost, Random Forest, and SVM models are still the top-performing classifiers, with XGBoost achieving the highest accuracy score. The differences in accuracy scores between the top-performing models are relatively small.\n",
    "7. Mean imputation for the numerical features did not significantly impact the classification results."
   ]
  },
  {
   "cell_type": "markdown",
   "id": "380385d2",
   "metadata": {},
   "source": [
    "### **Observations After Three Methods**"
   ]
  },
  {
   "cell_type": "markdown",
   "id": "585e8d3c",
   "metadata": {},
   "source": [
    "Here are the main points based on the results:\n",
    "\n",
    "1. XGBoost achieved the highest accuracy score on the test data, regardless of the imputation method used for the numerical features.\n",
    "2. The differences in accuracy scores between the top-performing classifiers (XGBoost, Random Forest, and SVM) were relatively small, indicating that they may be equally effective for this classification task.\n",
    "3. The choice of imputation method did not significantly impact the classification results, and the differences in accuracy scores between the imputation methods were relatively small.\n",
    "4. Other factors, such as computational complexity, bias, interpretability, or other performance metrics, may need to be considered when choosing the best imputation method.\n",
    "5. Based on the results, the choice of classifier may be more important than the choice of imputation method for this particular dataset and classification task.\n",
    "6. Overall, XGBoost is the best classifier for this particular dataset and classification task, while the choice of imputation method may depend on other considerations beyond accuracy score. For the purpose of this test, the imputation method chosen was the mean"
   ]
  },
  {
   "cell_type": "markdown",
   "id": "a3e83e37",
   "metadata": {},
   "source": [
    "## Using Model with Highest Accuracy - XGBoost"
   ]
  },
  {
   "cell_type": "markdown",
   "id": "a655c9a2",
   "metadata": {},
   "source": [
    "**Create transformers for categorical and numerical features**"
   ]
  },
  {
   "cell_type": "code",
   "execution_count": 141,
   "id": "97188e86",
   "metadata": {},
   "outputs": [],
   "source": [
    "categorical_transformer = Pipeline(steps=[\n",
    "    ('imputer', SimpleImputer(strategy='most_frequent')),\n",
    "    ('onehot', OneHotEncoder(handle_unknown='ignore'))])\n",
    "\n",
    "numerical_transformer = Pipeline(steps=[\n",
    "    ('imputer', SimpleImputer(strategy='mean')),\n",
    "    ('scaler', StandardScaler())])"
   ]
  },
  {
   "cell_type": "markdown",
   "id": "6d6c504e",
   "metadata": {},
   "source": [
    "**Create a preprocessor using ColumnTransformer**"
   ]
  },
  {
   "cell_type": "code",
   "execution_count": 142,
   "id": "8c9d6773",
   "metadata": {},
   "outputs": [],
   "source": [
    "preprocessor = ColumnTransformer(transformers=[\n",
    "    ('num', numerical_transformer, numerical_features),\n",
    "    ('cat', categorical_transformer, categorical_features)])"
   ]
  },
  {
   "cell_type": "markdown",
   "id": "0fc4932e",
   "metadata": {},
   "source": [
    "**Create the pipeline with the preprocessor and the XGBoost Classifier**"
   ]
  },
  {
   "cell_type": "code",
   "execution_count": 143,
   "id": "1e889130",
   "metadata": {},
   "outputs": [
    {
     "name": "stderr",
     "output_type": "stream",
     "text": [
      "/Users/estherteye/opt/anaconda3/lib/python3.9/site-packages/xgboost/sklearn.py:1395: UserWarning: `use_label_encoder` is deprecated in 1.7.0.\n",
      "  warnings.warn(\"`use_label_encoder` is deprecated in 1.7.0.\")\n"
     ]
    }
   ],
   "source": [
    "pipeline = Pipeline(steps=[\n",
    "    ('preprocessor', preprocessor),\n",
    "    ('classifier', XGBClassifier(use_label_encoder=False, eval_metric='logloss', random_state=42))])"
   ]
  },
  {
   "cell_type": "markdown",
   "id": "7791b5eb",
   "metadata": {},
   "source": [
    "**Fit the pipeline to the training data**"
   ]
  },
  {
   "cell_type": "code",
   "execution_count": 144,
   "id": "f4a8fd8c",
   "metadata": {},
   "outputs": [
    {
     "data": {
      "text/html": [
       "<style>#sk-container-id-4 {color: black;background-color: white;}#sk-container-id-4 pre{padding: 0;}#sk-container-id-4 div.sk-toggleable {background-color: white;}#sk-container-id-4 label.sk-toggleable__label {cursor: pointer;display: block;width: 100%;margin-bottom: 0;padding: 0.3em;box-sizing: border-box;text-align: center;}#sk-container-id-4 label.sk-toggleable__label-arrow:before {content: \"▸\";float: left;margin-right: 0.25em;color: #696969;}#sk-container-id-4 label.sk-toggleable__label-arrow:hover:before {color: black;}#sk-container-id-4 div.sk-estimator:hover label.sk-toggleable__label-arrow:before {color: black;}#sk-container-id-4 div.sk-toggleable__content {max-height: 0;max-width: 0;overflow: hidden;text-align: left;background-color: #f0f8ff;}#sk-container-id-4 div.sk-toggleable__content pre {margin: 0.2em;color: black;border-radius: 0.25em;background-color: #f0f8ff;}#sk-container-id-4 input.sk-toggleable__control:checked~div.sk-toggleable__content {max-height: 200px;max-width: 100%;overflow: auto;}#sk-container-id-4 input.sk-toggleable__control:checked~label.sk-toggleable__label-arrow:before {content: \"▾\";}#sk-container-id-4 div.sk-estimator input.sk-toggleable__control:checked~label.sk-toggleable__label {background-color: #d4ebff;}#sk-container-id-4 div.sk-label input.sk-toggleable__control:checked~label.sk-toggleable__label {background-color: #d4ebff;}#sk-container-id-4 input.sk-hidden--visually {border: 0;clip: rect(1px 1px 1px 1px);clip: rect(1px, 1px, 1px, 1px);height: 1px;margin: -1px;overflow: hidden;padding: 0;position: absolute;width: 1px;}#sk-container-id-4 div.sk-estimator {font-family: monospace;background-color: #f0f8ff;border: 1px dotted black;border-radius: 0.25em;box-sizing: border-box;margin-bottom: 0.5em;}#sk-container-id-4 div.sk-estimator:hover {background-color: #d4ebff;}#sk-container-id-4 div.sk-parallel-item::after {content: \"\";width: 100%;border-bottom: 1px solid gray;flex-grow: 1;}#sk-container-id-4 div.sk-label:hover label.sk-toggleable__label {background-color: #d4ebff;}#sk-container-id-4 div.sk-serial::before {content: \"\";position: absolute;border-left: 1px solid gray;box-sizing: border-box;top: 0;bottom: 0;left: 50%;z-index: 0;}#sk-container-id-4 div.sk-serial {display: flex;flex-direction: column;align-items: center;background-color: white;padding-right: 0.2em;padding-left: 0.2em;position: relative;}#sk-container-id-4 div.sk-item {position: relative;z-index: 1;}#sk-container-id-4 div.sk-parallel {display: flex;align-items: stretch;justify-content: center;background-color: white;position: relative;}#sk-container-id-4 div.sk-item::before, #sk-container-id-4 div.sk-parallel-item::before {content: \"\";position: absolute;border-left: 1px solid gray;box-sizing: border-box;top: 0;bottom: 0;left: 50%;z-index: -1;}#sk-container-id-4 div.sk-parallel-item {display: flex;flex-direction: column;z-index: 1;position: relative;background-color: white;}#sk-container-id-4 div.sk-parallel-item:first-child::after {align-self: flex-end;width: 50%;}#sk-container-id-4 div.sk-parallel-item:last-child::after {align-self: flex-start;width: 50%;}#sk-container-id-4 div.sk-parallel-item:only-child::after {width: 0;}#sk-container-id-4 div.sk-dashed-wrapped {border: 1px dashed gray;margin: 0 0.4em 0.5em 0.4em;box-sizing: border-box;padding-bottom: 0.4em;background-color: white;}#sk-container-id-4 div.sk-label label {font-family: monospace;font-weight: bold;display: inline-block;line-height: 1.2em;}#sk-container-id-4 div.sk-label-container {text-align: center;}#sk-container-id-4 div.sk-container {/* jupyter's `normalize.less` sets `[hidden] { display: none; }` but bootstrap.min.css set `[hidden] { display: none !important; }` so we also need the `!important` here to be able to override the default hidden behavior on the sphinx rendered scikit-learn.org. See: https://github.com/scikit-learn/scikit-learn/issues/21755 */display: inline-block !important;position: relative;}#sk-container-id-4 div.sk-text-repr-fallback {display: none;}</style><div id=\"sk-container-id-4\" class=\"sk-top-container\"><div class=\"sk-text-repr-fallback\"><pre>Pipeline(steps=[(&#x27;preprocessor&#x27;,\n",
       "                 ColumnTransformer(transformers=[(&#x27;num&#x27;,\n",
       "                                                  Pipeline(steps=[(&#x27;imputer&#x27;,\n",
       "                                                                   SimpleImputer()),\n",
       "                                                                  (&#x27;scaler&#x27;,\n",
       "                                                                   StandardScaler())]),\n",
       "                                                  [&#x27;Age&#x27;, &#x27;Travel_Distance&#x27;,\n",
       "                                                   &#x27;Departure_Delay_in_Mins&#x27;,\n",
       "                                                   &#x27;Arrival_Delay_in_Mins&#x27;]),\n",
       "                                                 (&#x27;cat&#x27;,\n",
       "                                                  Pipeline(steps=[(&#x27;imputer&#x27;,\n",
       "                                                                   SimpleImputer(strategy=&#x27;most_frequent&#x27;)),\n",
       "                                                                  (&#x27;onehot&#x27;,\n",
       "                                                                   OneHotEncoder(handle_unknown=&#x27;ignore&#x27;))]),\n",
       "                                                  [...\n",
       "                               feature_types=None, gamma=None, gpu_id=None,\n",
       "                               grow_policy=None, importance_type=None,\n",
       "                               interaction_constraints=None, learning_rate=None,\n",
       "                               max_bin=None, max_cat_threshold=None,\n",
       "                               max_cat_to_onehot=None, max_delta_step=None,\n",
       "                               max_depth=None, max_leaves=None,\n",
       "                               min_child_weight=None, missing=nan,\n",
       "                               monotone_constraints=None, n_estimators=100,\n",
       "                               n_jobs=None, num_parallel_tree=None,\n",
       "                               predictor=None, random_state=42, ...))])</pre><b>In a Jupyter environment, please rerun this cell to show the HTML representation or trust the notebook. <br />On GitHub, the HTML representation is unable to render, please try loading this page with nbviewer.org.</b></div><div class=\"sk-container\" hidden><div class=\"sk-item sk-dashed-wrapped\"><div class=\"sk-label-container\"><div class=\"sk-label sk-toggleable\"><input class=\"sk-toggleable__control sk-hidden--visually\" id=\"sk-estimator-id-29\" type=\"checkbox\" ><label for=\"sk-estimator-id-29\" class=\"sk-toggleable__label sk-toggleable__label-arrow\">Pipeline</label><div class=\"sk-toggleable__content\"><pre>Pipeline(steps=[(&#x27;preprocessor&#x27;,\n",
       "                 ColumnTransformer(transformers=[(&#x27;num&#x27;,\n",
       "                                                  Pipeline(steps=[(&#x27;imputer&#x27;,\n",
       "                                                                   SimpleImputer()),\n",
       "                                                                  (&#x27;scaler&#x27;,\n",
       "                                                                   StandardScaler())]),\n",
       "                                                  [&#x27;Age&#x27;, &#x27;Travel_Distance&#x27;,\n",
       "                                                   &#x27;Departure_Delay_in_Mins&#x27;,\n",
       "                                                   &#x27;Arrival_Delay_in_Mins&#x27;]),\n",
       "                                                 (&#x27;cat&#x27;,\n",
       "                                                  Pipeline(steps=[(&#x27;imputer&#x27;,\n",
       "                                                                   SimpleImputer(strategy=&#x27;most_frequent&#x27;)),\n",
       "                                                                  (&#x27;onehot&#x27;,\n",
       "                                                                   OneHotEncoder(handle_unknown=&#x27;ignore&#x27;))]),\n",
       "                                                  [...\n",
       "                               feature_types=None, gamma=None, gpu_id=None,\n",
       "                               grow_policy=None, importance_type=None,\n",
       "                               interaction_constraints=None, learning_rate=None,\n",
       "                               max_bin=None, max_cat_threshold=None,\n",
       "                               max_cat_to_onehot=None, max_delta_step=None,\n",
       "                               max_depth=None, max_leaves=None,\n",
       "                               min_child_weight=None, missing=nan,\n",
       "                               monotone_constraints=None, n_estimators=100,\n",
       "                               n_jobs=None, num_parallel_tree=None,\n",
       "                               predictor=None, random_state=42, ...))])</pre></div></div></div><div class=\"sk-serial\"><div class=\"sk-item sk-dashed-wrapped\"><div class=\"sk-label-container\"><div class=\"sk-label sk-toggleable\"><input class=\"sk-toggleable__control sk-hidden--visually\" id=\"sk-estimator-id-30\" type=\"checkbox\" ><label for=\"sk-estimator-id-30\" class=\"sk-toggleable__label sk-toggleable__label-arrow\">preprocessor: ColumnTransformer</label><div class=\"sk-toggleable__content\"><pre>ColumnTransformer(transformers=[(&#x27;num&#x27;,\n",
       "                                 Pipeline(steps=[(&#x27;imputer&#x27;, SimpleImputer()),\n",
       "                                                 (&#x27;scaler&#x27;, StandardScaler())]),\n",
       "                                 [&#x27;Age&#x27;, &#x27;Travel_Distance&#x27;,\n",
       "                                  &#x27;Departure_Delay_in_Mins&#x27;,\n",
       "                                  &#x27;Arrival_Delay_in_Mins&#x27;]),\n",
       "                                (&#x27;cat&#x27;,\n",
       "                                 Pipeline(steps=[(&#x27;imputer&#x27;,\n",
       "                                                  SimpleImputer(strategy=&#x27;most_frequent&#x27;)),\n",
       "                                                 (&#x27;onehot&#x27;,\n",
       "                                                  OneHotEncoder(handle_unknown=&#x27;ignore&#x27;))]),\n",
       "                                 [&#x27;Gender&#x27;, &#x27;Customer_Type&#x27;, &#x27;Type_Travel&#x27;,\n",
       "                                  &#x27;Travel_Class&#x27;, &#x27;Seat_Comfort&#x27;, &#x27;Seat_Class&#x27;,\n",
       "                                  &#x27;Arrival_Time_Convenient&#x27;, &#x27;Catering&#x27;,\n",
       "                                  &#x27;Platform_Location&#x27;, &#x27;Onboard_Wifi_Service&#x27;,\n",
       "                                  &#x27;Onboard_Entertainment&#x27;, &#x27;Online_Support&#x27;,\n",
       "                                  &#x27;Ease_of_Online_Booking&#x27;, &#x27;Onboard_Service&#x27;,\n",
       "                                  &#x27;Legroom&#x27;, &#x27;Baggage_Handling&#x27;,\n",
       "                                  &#x27;CheckIn_Service&#x27;, &#x27;Cleanliness&#x27;,\n",
       "                                  &#x27;Online_Boarding&#x27;])])</pre></div></div></div><div class=\"sk-parallel\"><div class=\"sk-parallel-item\"><div class=\"sk-item\"><div class=\"sk-label-container\"><div class=\"sk-label sk-toggleable\"><input class=\"sk-toggleable__control sk-hidden--visually\" id=\"sk-estimator-id-31\" type=\"checkbox\" ><label for=\"sk-estimator-id-31\" class=\"sk-toggleable__label sk-toggleable__label-arrow\">num</label><div class=\"sk-toggleable__content\"><pre>[&#x27;Age&#x27;, &#x27;Travel_Distance&#x27;, &#x27;Departure_Delay_in_Mins&#x27;, &#x27;Arrival_Delay_in_Mins&#x27;]</pre></div></div></div><div class=\"sk-serial\"><div class=\"sk-item\"><div class=\"sk-serial\"><div class=\"sk-item\"><div class=\"sk-estimator sk-toggleable\"><input class=\"sk-toggleable__control sk-hidden--visually\" id=\"sk-estimator-id-32\" type=\"checkbox\" ><label for=\"sk-estimator-id-32\" class=\"sk-toggleable__label sk-toggleable__label-arrow\">SimpleImputer</label><div class=\"sk-toggleable__content\"><pre>SimpleImputer()</pre></div></div></div><div class=\"sk-item\"><div class=\"sk-estimator sk-toggleable\"><input class=\"sk-toggleable__control sk-hidden--visually\" id=\"sk-estimator-id-33\" type=\"checkbox\" ><label for=\"sk-estimator-id-33\" class=\"sk-toggleable__label sk-toggleable__label-arrow\">StandardScaler</label><div class=\"sk-toggleable__content\"><pre>StandardScaler()</pre></div></div></div></div></div></div></div></div><div class=\"sk-parallel-item\"><div class=\"sk-item\"><div class=\"sk-label-container\"><div class=\"sk-label sk-toggleable\"><input class=\"sk-toggleable__control sk-hidden--visually\" id=\"sk-estimator-id-34\" type=\"checkbox\" ><label for=\"sk-estimator-id-34\" class=\"sk-toggleable__label sk-toggleable__label-arrow\">cat</label><div class=\"sk-toggleable__content\"><pre>[&#x27;Gender&#x27;, &#x27;Customer_Type&#x27;, &#x27;Type_Travel&#x27;, &#x27;Travel_Class&#x27;, &#x27;Seat_Comfort&#x27;, &#x27;Seat_Class&#x27;, &#x27;Arrival_Time_Convenient&#x27;, &#x27;Catering&#x27;, &#x27;Platform_Location&#x27;, &#x27;Onboard_Wifi_Service&#x27;, &#x27;Onboard_Entertainment&#x27;, &#x27;Online_Support&#x27;, &#x27;Ease_of_Online_Booking&#x27;, &#x27;Onboard_Service&#x27;, &#x27;Legroom&#x27;, &#x27;Baggage_Handling&#x27;, &#x27;CheckIn_Service&#x27;, &#x27;Cleanliness&#x27;, &#x27;Online_Boarding&#x27;]</pre></div></div></div><div class=\"sk-serial\"><div class=\"sk-item\"><div class=\"sk-serial\"><div class=\"sk-item\"><div class=\"sk-estimator sk-toggleable\"><input class=\"sk-toggleable__control sk-hidden--visually\" id=\"sk-estimator-id-35\" type=\"checkbox\" ><label for=\"sk-estimator-id-35\" class=\"sk-toggleable__label sk-toggleable__label-arrow\">SimpleImputer</label><div class=\"sk-toggleable__content\"><pre>SimpleImputer(strategy=&#x27;most_frequent&#x27;)</pre></div></div></div><div class=\"sk-item\"><div class=\"sk-estimator sk-toggleable\"><input class=\"sk-toggleable__control sk-hidden--visually\" id=\"sk-estimator-id-36\" type=\"checkbox\" ><label for=\"sk-estimator-id-36\" class=\"sk-toggleable__label sk-toggleable__label-arrow\">OneHotEncoder</label><div class=\"sk-toggleable__content\"><pre>OneHotEncoder(handle_unknown=&#x27;ignore&#x27;)</pre></div></div></div></div></div></div></div></div></div></div><div class=\"sk-item\"><div class=\"sk-estimator sk-toggleable\"><input class=\"sk-toggleable__control sk-hidden--visually\" id=\"sk-estimator-id-37\" type=\"checkbox\" ><label for=\"sk-estimator-id-37\" class=\"sk-toggleable__label sk-toggleable__label-arrow\">XGBClassifier</label><div class=\"sk-toggleable__content\"><pre>XGBClassifier(base_score=None, booster=None, callbacks=None,\n",
       "              colsample_bylevel=None, colsample_bynode=None,\n",
       "              colsample_bytree=None, early_stopping_rounds=None,\n",
       "              enable_categorical=False, eval_metric=&#x27;logloss&#x27;,\n",
       "              feature_types=None, gamma=None, gpu_id=None, grow_policy=None,\n",
       "              importance_type=None, interaction_constraints=None,\n",
       "              learning_rate=None, max_bin=None, max_cat_threshold=None,\n",
       "              max_cat_to_onehot=None, max_delta_step=None, max_depth=None,\n",
       "              max_leaves=None, min_child_weight=None, missing=nan,\n",
       "              monotone_constraints=None, n_estimators=100, n_jobs=None,\n",
       "              num_parallel_tree=None, predictor=None, random_state=42, ...)</pre></div></div></div></div></div></div></div>"
      ],
      "text/plain": [
       "Pipeline(steps=[('preprocessor',\n",
       "                 ColumnTransformer(transformers=[('num',\n",
       "                                                  Pipeline(steps=[('imputer',\n",
       "                                                                   SimpleImputer()),\n",
       "                                                                  ('scaler',\n",
       "                                                                   StandardScaler())]),\n",
       "                                                  ['Age', 'Travel_Distance',\n",
       "                                                   'Departure_Delay_in_Mins',\n",
       "                                                   'Arrival_Delay_in_Mins']),\n",
       "                                                 ('cat',\n",
       "                                                  Pipeline(steps=[('imputer',\n",
       "                                                                   SimpleImputer(strategy='most_frequent')),\n",
       "                                                                  ('onehot',\n",
       "                                                                   OneHotEncoder(handle_unknown='ignore'))]),\n",
       "                                                  [...\n",
       "                               feature_types=None, gamma=None, gpu_id=None,\n",
       "                               grow_policy=None, importance_type=None,\n",
       "                               interaction_constraints=None, learning_rate=None,\n",
       "                               max_bin=None, max_cat_threshold=None,\n",
       "                               max_cat_to_onehot=None, max_delta_step=None,\n",
       "                               max_depth=None, max_leaves=None,\n",
       "                               min_child_weight=None, missing=nan,\n",
       "                               monotone_constraints=None, n_estimators=100,\n",
       "                               n_jobs=None, num_parallel_tree=None,\n",
       "                               predictor=None, random_state=42, ...))])"
      ]
     },
     "execution_count": 144,
     "metadata": {},
     "output_type": "execute_result"
    }
   ],
   "source": [
    "pipeline.fit(X_train, y_train)"
   ]
  },
  {
   "cell_type": "markdown",
   "id": "5792369f",
   "metadata": {},
   "source": [
    "**Make predictions on the test set**"
   ]
  },
  {
   "cell_type": "code",
   "execution_count": 145,
   "id": "17886686",
   "metadata": {},
   "outputs": [],
   "source": [
    "y_pred = pipeline.predict(X_test)"
   ]
  },
  {
   "cell_type": "markdown",
   "id": "78310b39",
   "metadata": {},
   "source": [
    "**Evaluate the pipeline**"
   ]
  },
  {
   "cell_type": "code",
   "execution_count": 146,
   "id": "e5358dcd",
   "metadata": {
    "scrolled": true
   },
   "outputs": [
    {
     "name": "stdout",
     "output_type": "stream",
     "text": [
      "Accuracy: 0.9550752278025005\n",
      "\n",
      "Classification Report:\n",
      "               precision    recall  f1-score   support\n",
      "\n",
      "           0       0.94      0.96      0.95      8405\n",
      "           1       0.96      0.95      0.96     10471\n",
      "\n",
      "    accuracy                           0.96     18876\n",
      "   macro avg       0.95      0.96      0.95     18876\n",
      "weighted avg       0.96      0.96      0.96     18876\n",
      "\n"
     ]
    }
   ],
   "source": [
    "print(\"Accuracy:\", accuracy_score(y_test, y_pred))\n",
    "print(\"\\nClassification Report:\\n\", classification_report(y_test, y_pred))"
   ]
  },
  {
   "cell_type": "code",
   "execution_count": 38,
   "id": "4cd0f30c",
   "metadata": {},
   "outputs": [
    {
     "data": {
      "text/plain": [
       "<sklearn.metrics._plot.confusion_matrix.ConfusionMatrixDisplay at 0x7f9f489c1790>"
      ]
     },
     "execution_count": 38,
     "metadata": {},
     "output_type": "execute_result"
    },
    {
     "data": {
      "image/png": "[encoded data removed]",
      "text/plain": [
       "<Figure size 640x480 with 2 Axes>"
      ]
     },
     "metadata": {},
     "output_type": "display_data"
    }
   ],
   "source": [
    "cm = confusion_matrix(y_test, y_pred)\n",
    "disp = ConfusionMatrixDisplay(confusion_matrix=cm, display_labels=np.unique(y))\n",
    "disp.plot()"
   ]
  },
  {
   "cell_type": "markdown",
   "id": "3f342693",
   "metadata": {},
   "source": [
    "**Observations**"
   ]
  },
  {
   "cell_type": "markdown",
   "id": "e1adc397",
   "metadata": {},
   "source": [
    "*Based on the output of accuracy, precision, recall and F1 scores, the following observations can be made*:\n",
    "\n",
    "1. The XGBoost classifier with mean imputation achieved a high accuracy score of 0.9551 on the test data, indicating that it is a strong classifier for this particular dataset and classification task.\n",
    "2. The precision, recall, and F1 scores for both classes (0 and 1) were relatively high, indicating that the classifier is able to effectively distinguish between the two classes.\n",
    "3. The macro average of the precision, recall, and F1 scores were also high, indicating that the classifier performs well across both classes.\n",
    "\n",
    "*Based on the confusion matrix, the following observations can be made*:\n",
    "\n",
    "1. The classifier correctly predicted the negative overall travel experience of 8042 customers (true negatives), indicating that it is able to accurately identify customers who had a poor experience.\n",
    "2. The classifier correctly predicted the positive overall travel experience of 9986 customers (true positives), indicating that it is able to accurately identify customers who had a good experience.\n",
    "3. The classifier incorrectly predicted the positive overall travel experience of 363 customers who actually had a negative experience (false positives), which could potentially lead to misdirected efforts to retain or reward those customers.\n",
    "4. The classifier also incorrectly predicted the negative overall travel experience of 485 customers who actually had a positive experience (false negatives), which could potentially lead to missed opportunities to improve the customer experience or address issues.\n",
    "5. Overall, the XGBoost classifier with mean imputation performed well in terms of accuracy, precision, recall, and F1 score, as well as in the confusion matrix, indicating that it is a strong model for predicting the overall travel experience of customers based on their demographic and travel-related features.\n"
   ]
  },
  {
   "cell_type": "markdown",
   "id": "b306767f",
   "metadata": {},
   "source": [
    "## Predictions for Test Data"
   ]
  },
  {
   "cell_type": "markdown",
   "id": "83334dc9",
   "metadata": {},
   "source": [
    "### **Loading the Test dataset**"
   ]
  },
  {
   "cell_type": "code",
   "execution_count": 39,
   "id": "1e439af6",
   "metadata": {},
   "outputs": [],
   "source": [
    "travel_data_test = pd.read_csv(\"Traveldata_test.csv\")"
   ]
  },
  {
   "cell_type": "code",
   "execution_count": 40,
   "id": "9aef2458",
   "metadata": {},
   "outputs": [],
   "source": [
    "survey_data_test = pd.read_csv(\"Surveydata_test.csv\")"
   ]
  },
  {
   "cell_type": "markdown",
   "id": "1fb57946",
   "metadata": {},
   "source": [
    "**Merge the travel_data_test and survey_data_test dataframes on the 'ID' column and store it in merged_traveldata_test**"
   ]
  },
  {
   "cell_type": "code",
   "execution_count": 41,
   "id": "035a89ea",
   "metadata": {},
   "outputs": [],
   "source": [
    "merged_traveldata_test = travel_data_test.merge(survey_data_test, on = 'ID')"
   ]
  },
  {
   "cell_type": "markdown",
   "id": "5a110b8a",
   "metadata": {},
   "source": [
    "**Create a copy of merged_traveldata_test and store it in df**"
   ]
  },
  {
   "cell_type": "code",
   "execution_count": 42,
   "id": "1f8f9857",
   "metadata": {},
   "outputs": [],
   "source": [
    "df_test = merged_traveldata_test.copy()"
   ]
  },
  {
   "cell_type": "markdown",
   "id": "a30904e8",
   "metadata": {},
   "source": [
    "## Overview of the Test dataset"
   ]
  },
  {
   "cell_type": "markdown",
   "id": "c9f6f217",
   "metadata": {},
   "source": [
    "### **View the first and last 5 rows of the dataset**"
   ]
  },
  {
   "cell_type": "code",
   "execution_count": 43,
   "id": "bb87ca3d",
   "metadata": {},
   "outputs": [
    {
     "data": {
      "text/html": [
       "<div>\n",
       "<style scoped>\n",
       "    .dataframe tbody tr th:only-of-type {\n",
       "        vertical-align: middle;\n",
       "    }\n",
       "\n",
       "    .dataframe tbody tr th {\n",
       "        vertical-align: top;\n",
       "    }\n",
       "\n",
       "    .dataframe thead th {\n",
       "        text-align: right;\n",
       "    }\n",
       "</style>\n",
       "<table border=\"1\" class=\"dataframe\">\n",
       "  <thead>\n",
       "    <tr style=\"text-align: right;\">\n",
       "      <th></th>\n",
       "      <th>ID</th>\n",
       "      <th>Gender</th>\n",
       "      <th>Customer_Type</th>\n",
       "      <th>Age</th>\n",
       "      <th>Type_Travel</th>\n",
       "      <th>Travel_Class</th>\n",
       "      <th>Travel_Distance</th>\n",
       "      <th>Departure_Delay_in_Mins</th>\n",
       "      <th>Arrival_Delay_in_Mins</th>\n",
       "      <th>Seat_Comfort</th>\n",
       "      <th>...</th>\n",
       "      <th>Onboard_Wifi_Service</th>\n",
       "      <th>Onboard_Entertainment</th>\n",
       "      <th>Online_Support</th>\n",
       "      <th>Ease_of_Online_Booking</th>\n",
       "      <th>Onboard_Service</th>\n",
       "      <th>Legroom</th>\n",
       "      <th>Baggage_Handling</th>\n",
       "      <th>CheckIn_Service</th>\n",
       "      <th>Cleanliness</th>\n",
       "      <th>Online_Boarding</th>\n",
       "    </tr>\n",
       "  </thead>\n",
       "  <tbody>\n",
       "    <tr>\n",
       "      <th>0</th>\n",
       "      <td>99900001</td>\n",
       "      <td>Female</td>\n",
       "      <td>NaN</td>\n",
       "      <td>36.0</td>\n",
       "      <td>Business Travel</td>\n",
       "      <td>Business</td>\n",
       "      <td>532</td>\n",
       "      <td>0.0</td>\n",
       "      <td>0.0</td>\n",
       "      <td>Acceptable</td>\n",
       "      <td>...</td>\n",
       "      <td>Needs Improvement</td>\n",
       "      <td>Excellent</td>\n",
       "      <td>Good</td>\n",
       "      <td>Excellent</td>\n",
       "      <td>Excellent</td>\n",
       "      <td>Excellent</td>\n",
       "      <td>Excellent</td>\n",
       "      <td>Good</td>\n",
       "      <td>Excellent</td>\n",
       "      <td>Poor</td>\n",
       "    </tr>\n",
       "    <tr>\n",
       "      <th>1</th>\n",
       "      <td>99900002</td>\n",
       "      <td>Female</td>\n",
       "      <td>Disloyal Customer</td>\n",
       "      <td>21.0</td>\n",
       "      <td>Business Travel</td>\n",
       "      <td>Business</td>\n",
       "      <td>1425</td>\n",
       "      <td>9.0</td>\n",
       "      <td>28.0</td>\n",
       "      <td>Extremely Poor</td>\n",
       "      <td>...</td>\n",
       "      <td>Acceptable</td>\n",
       "      <td>Poor</td>\n",
       "      <td>Acceptable</td>\n",
       "      <td>Acceptable</td>\n",
       "      <td>Excellent</td>\n",
       "      <td>Acceptable</td>\n",
       "      <td>Good</td>\n",
       "      <td>Acceptable</td>\n",
       "      <td>Excellent</td>\n",
       "      <td>Acceptable</td>\n",
       "    </tr>\n",
       "    <tr>\n",
       "      <th>2</th>\n",
       "      <td>99900003</td>\n",
       "      <td>Male</td>\n",
       "      <td>Loyal Customer</td>\n",
       "      <td>60.0</td>\n",
       "      <td>Business Travel</td>\n",
       "      <td>Business</td>\n",
       "      <td>2832</td>\n",
       "      <td>0.0</td>\n",
       "      <td>0.0</td>\n",
       "      <td>Excellent</td>\n",
       "      <td>...</td>\n",
       "      <td>Excellent</td>\n",
       "      <td>Excellent</td>\n",
       "      <td>Excellent</td>\n",
       "      <td>Needs Improvement</td>\n",
       "      <td>Needs Improvement</td>\n",
       "      <td>Needs Improvement</td>\n",
       "      <td>Needs Improvement</td>\n",
       "      <td>Good</td>\n",
       "      <td>Needs Improvement</td>\n",
       "      <td>Excellent</td>\n",
       "    </tr>\n",
       "    <tr>\n",
       "      <th>3</th>\n",
       "      <td>99900004</td>\n",
       "      <td>Female</td>\n",
       "      <td>Loyal Customer</td>\n",
       "      <td>29.0</td>\n",
       "      <td>Personal Travel</td>\n",
       "      <td>Eco</td>\n",
       "      <td>1352</td>\n",
       "      <td>0.0</td>\n",
       "      <td>0.0</td>\n",
       "      <td>Acceptable</td>\n",
       "      <td>...</td>\n",
       "      <td>Poor</td>\n",
       "      <td>Acceptable</td>\n",
       "      <td>Excellent</td>\n",
       "      <td>Poor</td>\n",
       "      <td>Acceptable</td>\n",
       "      <td>Needs Improvement</td>\n",
       "      <td>Excellent</td>\n",
       "      <td>Excellent</td>\n",
       "      <td>Excellent</td>\n",
       "      <td>Poor</td>\n",
       "    </tr>\n",
       "    <tr>\n",
       "      <th>4</th>\n",
       "      <td>99900005</td>\n",
       "      <td>Male</td>\n",
       "      <td>Disloyal Customer</td>\n",
       "      <td>18.0</td>\n",
       "      <td>Business Travel</td>\n",
       "      <td>Business</td>\n",
       "      <td>1610</td>\n",
       "      <td>17.0</td>\n",
       "      <td>0.0</td>\n",
       "      <td>Excellent</td>\n",
       "      <td>...</td>\n",
       "      <td>Excellent</td>\n",
       "      <td>Excellent</td>\n",
       "      <td>Excellent</td>\n",
       "      <td>Excellent</td>\n",
       "      <td>NaN</td>\n",
       "      <td>Acceptable</td>\n",
       "      <td>Excellent</td>\n",
       "      <td>Excellent</td>\n",
       "      <td>Excellent</td>\n",
       "      <td>Excellent</td>\n",
       "    </tr>\n",
       "  </tbody>\n",
       "</table>\n",
       "<p>5 rows × 24 columns</p>\n",
       "</div>"
      ],
      "text/plain": [
       "         ID  Gender      Customer_Type   Age      Type_Travel Travel_Class  \\\n",
       "0  99900001  Female                NaN  36.0  Business Travel     Business   \n",
       "1  99900002  Female  Disloyal Customer  21.0  Business Travel     Business   \n",
       "2  99900003    Male     Loyal Customer  60.0  Business Travel     Business   \n",
       "3  99900004  Female     Loyal Customer  29.0  Personal Travel          Eco   \n",
       "4  99900005    Male  Disloyal Customer  18.0  Business Travel     Business   \n",
       "\n",
       "   Travel_Distance  Departure_Delay_in_Mins  Arrival_Delay_in_Mins  \\\n",
       "0              532                      0.0                    0.0   \n",
       "1             1425                      9.0                   28.0   \n",
       "2             2832                      0.0                    0.0   \n",
       "3             1352                      0.0                    0.0   \n",
       "4             1610                     17.0                    0.0   \n",
       "\n",
       "     Seat_Comfort  ... Onboard_Wifi_Service Onboard_Entertainment  \\\n",
       "0      Acceptable  ...    Needs Improvement             Excellent   \n",
       "1  Extremely Poor  ...           Acceptable                  Poor   \n",
       "2       Excellent  ...            Excellent             Excellent   \n",
       "3      Acceptable  ...                 Poor            Acceptable   \n",
       "4       Excellent  ...            Excellent             Excellent   \n",
       "\n",
       "  Online_Support Ease_of_Online_Booking    Onboard_Service            Legroom  \\\n",
       "0           Good              Excellent          Excellent          Excellent   \n",
       "1     Acceptable             Acceptable          Excellent         Acceptable   \n",
       "2      Excellent      Needs Improvement  Needs Improvement  Needs Improvement   \n",
       "3      Excellent                   Poor         Acceptable  Needs Improvement   \n",
       "4      Excellent              Excellent                NaN         Acceptable   \n",
       "\n",
       "    Baggage_Handling CheckIn_Service        Cleanliness Online_Boarding  \n",
       "0          Excellent            Good          Excellent            Poor  \n",
       "1               Good      Acceptable          Excellent      Acceptable  \n",
       "2  Needs Improvement            Good  Needs Improvement       Excellent  \n",
       "3          Excellent       Excellent          Excellent            Poor  \n",
       "4          Excellent       Excellent          Excellent       Excellent  \n",
       "\n",
       "[5 rows x 24 columns]"
      ]
     },
     "execution_count": 43,
     "metadata": {},
     "output_type": "execute_result"
    }
   ],
   "source": [
    "df_test.head()"
   ]
  },
  {
   "cell_type": "code",
   "execution_count": 44,
   "id": "f9307455",
   "metadata": {},
   "outputs": [
    {
     "data": {
      "text/html": [
       "<div>\n",
       "<style scoped>\n",
       "    .dataframe tbody tr th:only-of-type {\n",
       "        vertical-align: middle;\n",
       "    }\n",
       "\n",
       "    .dataframe tbody tr th {\n",
       "        vertical-align: top;\n",
       "    }\n",
       "\n",
       "    .dataframe thead th {\n",
       "        text-align: right;\n",
       "    }\n",
       "</style>\n",
       "<table border=\"1\" class=\"dataframe\">\n",
       "  <thead>\n",
       "    <tr style=\"text-align: right;\">\n",
       "      <th></th>\n",
       "      <th>ID</th>\n",
       "      <th>Gender</th>\n",
       "      <th>Customer_Type</th>\n",
       "      <th>Age</th>\n",
       "      <th>Type_Travel</th>\n",
       "      <th>Travel_Class</th>\n",
       "      <th>Travel_Distance</th>\n",
       "      <th>Departure_Delay_in_Mins</th>\n",
       "      <th>Arrival_Delay_in_Mins</th>\n",
       "      <th>Seat_Comfort</th>\n",
       "      <th>...</th>\n",
       "      <th>Onboard_Wifi_Service</th>\n",
       "      <th>Onboard_Entertainment</th>\n",
       "      <th>Online_Support</th>\n",
       "      <th>Ease_of_Online_Booking</th>\n",
       "      <th>Onboard_Service</th>\n",
       "      <th>Legroom</th>\n",
       "      <th>Baggage_Handling</th>\n",
       "      <th>CheckIn_Service</th>\n",
       "      <th>Cleanliness</th>\n",
       "      <th>Online_Boarding</th>\n",
       "    </tr>\n",
       "  </thead>\n",
       "  <tbody>\n",
       "    <tr>\n",
       "      <th>35597</th>\n",
       "      <td>99935598</td>\n",
       "      <td>Male</td>\n",
       "      <td>Loyal Customer</td>\n",
       "      <td>8.0</td>\n",
       "      <td>Personal Travel</td>\n",
       "      <td>Eco</td>\n",
       "      <td>1334</td>\n",
       "      <td>0.0</td>\n",
       "      <td>0.0</td>\n",
       "      <td>Needs Improvement</td>\n",
       "      <td>...</td>\n",
       "      <td>Acceptable</td>\n",
       "      <td>Needs Improvement</td>\n",
       "      <td>Acceptable</td>\n",
       "      <td>Acceptable</td>\n",
       "      <td>Good</td>\n",
       "      <td>Excellent</td>\n",
       "      <td>Good</td>\n",
       "      <td>Acceptable</td>\n",
       "      <td>Good</td>\n",
       "      <td>Acceptable</td>\n",
       "    </tr>\n",
       "    <tr>\n",
       "      <th>35598</th>\n",
       "      <td>99935599</td>\n",
       "      <td>Female</td>\n",
       "      <td>Loyal Customer</td>\n",
       "      <td>53.0</td>\n",
       "      <td>Business Travel</td>\n",
       "      <td>Business</td>\n",
       "      <td>1772</td>\n",
       "      <td>0.0</td>\n",
       "      <td>0.0</td>\n",
       "      <td>Needs Improvement</td>\n",
       "      <td>...</td>\n",
       "      <td>Acceptable</td>\n",
       "      <td>Excellent</td>\n",
       "      <td>Excellent</td>\n",
       "      <td>Good</td>\n",
       "      <td>Good</td>\n",
       "      <td>Good</td>\n",
       "      <td>Good</td>\n",
       "      <td>Acceptable</td>\n",
       "      <td>Good</td>\n",
       "      <td>Good</td>\n",
       "    </tr>\n",
       "    <tr>\n",
       "      <th>35599</th>\n",
       "      <td>99935600</td>\n",
       "      <td>Male</td>\n",
       "      <td>Disloyal Customer</td>\n",
       "      <td>22.0</td>\n",
       "      <td>Business Travel</td>\n",
       "      <td>Eco</td>\n",
       "      <td>1180</td>\n",
       "      <td>0.0</td>\n",
       "      <td>0.0</td>\n",
       "      <td>Good</td>\n",
       "      <td>...</td>\n",
       "      <td>Needs Improvement</td>\n",
       "      <td>Good</td>\n",
       "      <td>Poor</td>\n",
       "      <td>Needs Improvement</td>\n",
       "      <td>Poor</td>\n",
       "      <td>Acceptable</td>\n",
       "      <td>Poor</td>\n",
       "      <td>Poor</td>\n",
       "      <td>Excellent</td>\n",
       "      <td>Needs Improvement</td>\n",
       "    </tr>\n",
       "    <tr>\n",
       "      <th>35600</th>\n",
       "      <td>99935601</td>\n",
       "      <td>Female</td>\n",
       "      <td>Loyal Customer</td>\n",
       "      <td>67.0</td>\n",
       "      <td>Personal Travel</td>\n",
       "      <td>Eco</td>\n",
       "      <td>420</td>\n",
       "      <td>23.0</td>\n",
       "      <td>16.0</td>\n",
       "      <td>Excellent</td>\n",
       "      <td>...</td>\n",
       "      <td>Acceptable</td>\n",
       "      <td>Excellent</td>\n",
       "      <td>Good</td>\n",
       "      <td>Excellent</td>\n",
       "      <td>Excellent</td>\n",
       "      <td>Excellent</td>\n",
       "      <td>Excellent</td>\n",
       "      <td>Acceptable</td>\n",
       "      <td>Excellent</td>\n",
       "      <td>Good</td>\n",
       "    </tr>\n",
       "    <tr>\n",
       "      <th>35601</th>\n",
       "      <td>99935602</td>\n",
       "      <td>Male</td>\n",
       "      <td>NaN</td>\n",
       "      <td>20.0</td>\n",
       "      <td>Personal Travel</td>\n",
       "      <td>Eco</td>\n",
       "      <td>1680</td>\n",
       "      <td>0.0</td>\n",
       "      <td>0.0</td>\n",
       "      <td>Good</td>\n",
       "      <td>...</td>\n",
       "      <td>Poor</td>\n",
       "      <td>Good</td>\n",
       "      <td>Poor</td>\n",
       "      <td>Poor</td>\n",
       "      <td>Acceptable</td>\n",
       "      <td>Good</td>\n",
       "      <td>Good</td>\n",
       "      <td>Needs Improvement</td>\n",
       "      <td>Good</td>\n",
       "      <td>Poor</td>\n",
       "    </tr>\n",
       "  </tbody>\n",
       "</table>\n",
       "<p>5 rows × 24 columns</p>\n",
       "</div>"
      ],
      "text/plain": [
       "             ID  Gender      Customer_Type   Age      Type_Travel  \\\n",
       "35597  99935598    Male     Loyal Customer   8.0  Personal Travel   \n",
       "35598  99935599  Female     Loyal Customer  53.0  Business Travel   \n",
       "35599  99935600    Male  Disloyal Customer  22.0  Business Travel   \n",
       "35600  99935601  Female     Loyal Customer  67.0  Personal Travel   \n",
       "35601  99935602    Male                NaN  20.0  Personal Travel   \n",
       "\n",
       "      Travel_Class  Travel_Distance  Departure_Delay_in_Mins  \\\n",
       "35597          Eco             1334                      0.0   \n",
       "35598     Business             1772                      0.0   \n",
       "35599          Eco             1180                      0.0   \n",
       "35600          Eco              420                     23.0   \n",
       "35601          Eco             1680                      0.0   \n",
       "\n",
       "       Arrival_Delay_in_Mins       Seat_Comfort  ... Onboard_Wifi_Service  \\\n",
       "35597                    0.0  Needs Improvement  ...           Acceptable   \n",
       "35598                    0.0  Needs Improvement  ...           Acceptable   \n",
       "35599                    0.0               Good  ...    Needs Improvement   \n",
       "35600                   16.0          Excellent  ...           Acceptable   \n",
       "35601                    0.0               Good  ...                 Poor   \n",
       "\n",
       "      Onboard_Entertainment Online_Support Ease_of_Online_Booking  \\\n",
       "35597     Needs Improvement     Acceptable             Acceptable   \n",
       "35598             Excellent      Excellent                   Good   \n",
       "35599                  Good           Poor      Needs Improvement   \n",
       "35600             Excellent           Good              Excellent   \n",
       "35601                  Good           Poor                   Poor   \n",
       "\n",
       "      Onboard_Service     Legroom Baggage_Handling    CheckIn_Service  \\\n",
       "35597            Good   Excellent             Good         Acceptable   \n",
       "35598            Good        Good             Good         Acceptable   \n",
       "35599            Poor  Acceptable             Poor               Poor   \n",
       "35600       Excellent   Excellent        Excellent         Acceptable   \n",
       "35601      Acceptable        Good             Good  Needs Improvement   \n",
       "\n",
       "      Cleanliness    Online_Boarding  \n",
       "35597        Good         Acceptable  \n",
       "35598        Good               Good  \n",
       "35599   Excellent  Needs Improvement  \n",
       "35600   Excellent               Good  \n",
       "35601        Good               Poor  \n",
       "\n",
       "[5 rows x 24 columns]"
      ]
     },
     "execution_count": 44,
     "metadata": {},
     "output_type": "execute_result"
    }
   ],
   "source": [
    "df_test.tail()"
   ]
  },
  {
   "cell_type": "markdown",
   "id": "519c825d",
   "metadata": {},
   "source": [
    "### **Understand the shape of the dataset**"
   ]
  },
  {
   "cell_type": "code",
   "execution_count": 45,
   "id": "3ecf494f",
   "metadata": {},
   "outputs": [
    {
     "data": {
      "text/plain": [
       "(35602, 24)"
      ]
     },
     "execution_count": 45,
     "metadata": {},
     "output_type": "execute_result"
    }
   ],
   "source": [
    "df_test.shape"
   ]
  },
  {
   "cell_type": "markdown",
   "id": "75724682",
   "metadata": {},
   "source": [
    "### **Check the data types of the columns for the dataset**"
   ]
  },
  {
   "cell_type": "code",
   "execution_count": 46,
   "id": "d4a798e2",
   "metadata": {},
   "outputs": [
    {
     "name": "stdout",
     "output_type": "stream",
     "text": [
      "<class 'pandas.core.frame.DataFrame'>\n",
      "Int64Index: 35602 entries, 0 to 35601\n",
      "Data columns (total 24 columns):\n",
      " #   Column                   Non-Null Count  Dtype  \n",
      "---  ------                   --------------  -----  \n",
      " 0   ID                       35602 non-null  int64  \n",
      " 1   Gender                   35572 non-null  object \n",
      " 2   Customer_Type            32219 non-null  object \n",
      " 3   Age                      35591 non-null  float64\n",
      " 4   Type_Travel              32154 non-null  object \n",
      " 5   Travel_Class             35602 non-null  object \n",
      " 6   Travel_Distance          35602 non-null  int64  \n",
      " 7   Departure_Delay_in_Mins  35573 non-null  float64\n",
      " 8   Arrival_Delay_in_Mins    35479 non-null  float64\n",
      " 9   Seat_Comfort             35580 non-null  object \n",
      " 10  Seat_Class               35602 non-null  object \n",
      " 11  Arrival_Time_Convenient  32277 non-null  object \n",
      " 12  Catering                 32245 non-null  object \n",
      " 13  Platform_Location        35590 non-null  object \n",
      " 14  Onboard_Wifi_Service     35590 non-null  object \n",
      " 15  Onboard_Entertainment    35594 non-null  object \n",
      " 16  Online_Support           35576 non-null  object \n",
      " 17  Ease_of_Online_Booking   35584 non-null  object \n",
      " 18  Onboard_Service          32730 non-null  object \n",
      " 19  Legroom                  35577 non-null  object \n",
      " 20  Baggage_Handling         35562 non-null  object \n",
      " 21  CheckIn_Service          35580 non-null  object \n",
      " 22  Cleanliness              35600 non-null  object \n",
      " 23  Online_Boarding          35600 non-null  object \n",
      "dtypes: float64(3), int64(2), object(19)\n",
      "memory usage: 6.8+ MB\n"
     ]
    }
   ],
   "source": [
    "df_test.info()"
   ]
  },
  {
   "cell_type": "markdown",
   "id": "87bc882a",
   "metadata": {},
   "source": [
    "### **Check the summary statistics of the dataset**"
   ]
  },
  {
   "cell_type": "code",
   "execution_count": 47,
   "id": "3a96991a",
   "metadata": {},
   "outputs": [
    {
     "data": {
      "text/html": [
       "<div>\n",
       "<style scoped>\n",
       "    .dataframe tbody tr th:only-of-type {\n",
       "        vertical-align: middle;\n",
       "    }\n",
       "\n",
       "    .dataframe tbody tr th {\n",
       "        vertical-align: top;\n",
       "    }\n",
       "\n",
       "    .dataframe thead th {\n",
       "        text-align: right;\n",
       "    }\n",
       "</style>\n",
       "<table border=\"1\" class=\"dataframe\">\n",
       "  <thead>\n",
       "    <tr style=\"text-align: right;\">\n",
       "      <th></th>\n",
       "      <th>ID</th>\n",
       "      <th>Age</th>\n",
       "      <th>Travel_Distance</th>\n",
       "      <th>Departure_Delay_in_Mins</th>\n",
       "      <th>Arrival_Delay_in_Mins</th>\n",
       "    </tr>\n",
       "  </thead>\n",
       "  <tbody>\n",
       "    <tr>\n",
       "      <th>count</th>\n",
       "      <td>3.560200e+04</td>\n",
       "      <td>35591.000000</td>\n",
       "      <td>35602.000000</td>\n",
       "      <td>35573.000000</td>\n",
       "      <td>35479.000000</td>\n",
       "    </tr>\n",
       "    <tr>\n",
       "      <th>mean</th>\n",
       "      <td>9.991780e+07</td>\n",
       "      <td>39.446995</td>\n",
       "      <td>1987.151761</td>\n",
       "      <td>14.880696</td>\n",
       "      <td>15.308802</td>\n",
       "    </tr>\n",
       "    <tr>\n",
       "      <th>std</th>\n",
       "      <td>1.027756e+04</td>\n",
       "      <td>15.137554</td>\n",
       "      <td>1024.308863</td>\n",
       "      <td>37.895453</td>\n",
       "      <td>38.531293</td>\n",
       "    </tr>\n",
       "    <tr>\n",
       "      <th>min</th>\n",
       "      <td>9.990000e+07</td>\n",
       "      <td>7.000000</td>\n",
       "      <td>50.000000</td>\n",
       "      <td>0.000000</td>\n",
       "      <td>0.000000</td>\n",
       "    </tr>\n",
       "    <tr>\n",
       "      <th>25%</th>\n",
       "      <td>9.990890e+07</td>\n",
       "      <td>27.000000</td>\n",
       "      <td>1360.000000</td>\n",
       "      <td>0.000000</td>\n",
       "      <td>0.000000</td>\n",
       "    </tr>\n",
       "    <tr>\n",
       "      <th>50%</th>\n",
       "      <td>9.991780e+07</td>\n",
       "      <td>40.000000</td>\n",
       "      <td>1929.000000</td>\n",
       "      <td>0.000000</td>\n",
       "      <td>0.000000</td>\n",
       "    </tr>\n",
       "    <tr>\n",
       "      <th>75%</th>\n",
       "      <td>9.992670e+07</td>\n",
       "      <td>51.000000</td>\n",
       "      <td>2559.000000</td>\n",
       "      <td>13.000000</td>\n",
       "      <td>13.000000</td>\n",
       "    </tr>\n",
       "    <tr>\n",
       "      <th>max</th>\n",
       "      <td>9.993560e+07</td>\n",
       "      <td>85.000000</td>\n",
       "      <td>6868.000000</td>\n",
       "      <td>978.000000</td>\n",
       "      <td>970.000000</td>\n",
       "    </tr>\n",
       "  </tbody>\n",
       "</table>\n",
       "</div>"
      ],
      "text/plain": [
       "                 ID           Age  Travel_Distance  Departure_Delay_in_Mins  \\\n",
       "count  3.560200e+04  35591.000000     35602.000000             35573.000000   \n",
       "mean   9.991780e+07     39.446995      1987.151761                14.880696   \n",
       "std    1.027756e+04     15.137554      1024.308863                37.895453   \n",
       "min    9.990000e+07      7.000000        50.000000                 0.000000   \n",
       "25%    9.990890e+07     27.000000      1360.000000                 0.000000   \n",
       "50%    9.991780e+07     40.000000      1929.000000                 0.000000   \n",
       "75%    9.992670e+07     51.000000      2559.000000                13.000000   \n",
       "max    9.993560e+07     85.000000      6868.000000               978.000000   \n",
       "\n",
       "       Arrival_Delay_in_Mins  \n",
       "count           35479.000000  \n",
       "mean               15.308802  \n",
       "std                38.531293  \n",
       "min                 0.000000  \n",
       "25%                 0.000000  \n",
       "50%                 0.000000  \n",
       "75%                13.000000  \n",
       "max               970.000000  "
      ]
     },
     "execution_count": 47,
     "metadata": {},
     "output_type": "execute_result"
    }
   ],
   "source": [
    "df_test.describe()"
   ]
  },
  {
   "cell_type": "markdown",
   "id": "1da35b7b",
   "metadata": {},
   "source": [
    "## **Make predictions on the test set using the Prediction pipeline created**"
   ]
  },
  {
   "cell_type": "code",
   "execution_count": 48,
   "id": "eb756290",
   "metadata": {},
   "outputs": [],
   "source": [
    "df_test['Overall_Experience'] = pipeline.predict(df_test)"
   ]
  },
  {
   "cell_type": "markdown",
   "id": "53de8578",
   "metadata": {},
   "source": [
    "**Create new dataframe with just ID and Overall Experience**"
   ]
  },
  {
   "cell_type": "code",
   "execution_count": 49,
   "id": "4c503f74",
   "metadata": {},
   "outputs": [],
   "source": [
    "travel_data_predictions = df_test[['ID', 'Overall_Experience']]"
   ]
  },
  {
   "cell_type": "markdown",
   "id": "1c5f0e88",
   "metadata": {},
   "source": [
    "**Make 'ID' index of the dataframe**"
   ]
  },
  {
   "cell_type": "code",
   "execution_count": 50,
   "id": "7630a872",
   "metadata": {},
   "outputs": [],
   "source": [
    "travel_data_predictions = travel_data_predictions.set_index('ID')"
   ]
  },
  {
   "cell_type": "markdown",
   "id": "4bf88b0f",
   "metadata": {},
   "source": [
    "**Save dataframe as csv**"
   ]
  },
  {
   "cell_type": "code",
   "execution_count": 51,
   "id": "3f7a60cb",
   "metadata": {},
   "outputs": [],
   "source": [
    "travel_data_predictions.to_csv('Esther_Teye_Travel_data_predictions.csv')"
   ]
  }
 ],
 "metadata": {
  "kernelspec": {
   "display_name": "Python 3 (ipykernel)",
   "language": "python",
   "name": "python3"
  },
  "language_info": {
   "codemirror_mode": {
    "name": "ipython",
    "version": 3
   },
   "file_extension": ".py",
   "mimetype": "text/x-python",
   "name": "python",
   "nbconvert_exporter": "python",
   "pygments_lexer": "ipython3",
   "version": "3.9.13"
  }
 },
 "nbformat": 4,
 "nbformat_minor": 5
}
